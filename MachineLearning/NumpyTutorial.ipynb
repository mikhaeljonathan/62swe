{
  "cells": [
    {
      "cell_type": "markdown",
      "id": "9afa0fe3-a1c4-4424-93d5-a6706e0ef745",
      "metadata": {
        "id": "9afa0fe3-a1c4-4424-93d5-a6706e0ef745"
      },
      "source": [
        "# Import lib"
      ]
    },
    {
      "cell_type": "code",
      "execution_count": null,
      "id": "217c24ac-fb04-44c3-ae87-8a54382243b5",
      "metadata": {
        "id": "217c24ac-fb04-44c3-ae87-8a54382243b5"
      },
      "outputs": [],
      "source": [
        "import numpy as np"
      ]
    },
    {
      "cell_type": "markdown",
      "id": "5b2a5ab2-3f68-4fd3-ac1b-7a96c75131e8",
      "metadata": {
        "id": "5b2a5ab2-3f68-4fd3-ac1b-7a96c75131e8"
      },
      "source": [
        "# Creating arrays"
      ]
    },
    {
      "cell_type": "code",
      "execution_count": null,
      "id": "e634d848-90ab-48b8-8651-1debca3e7907",
      "metadata": {
        "colab": {
          "base_uri": "https://localhost:8080/"
        },
        "id": "e634d848-90ab-48b8-8651-1debca3e7907",
        "outputId": "6b99fa05-6680-44d5-a74e-708e19e20f6f"
      },
      "outputs": [
        {
          "output_type": "execute_result",
          "data": {
            "text/plain": [
              "list"
            ]
          },
          "metadata": {},
          "execution_count": 2
        }
      ],
      "source": [
        "arr = [1,3,4]\n",
        "type(arr)"
      ]
    },
    {
      "cell_type": "code",
      "execution_count": null,
      "id": "06d94f4a-1100-48b3-8c46-579203dbc4af",
      "metadata": {
        "colab": {
          "base_uri": "https://localhost:8080/"
        },
        "id": "06d94f4a-1100-48b3-8c46-579203dbc4af",
        "outputId": "d60f84d0-2a3f-4f42-81c3-3342a55d0c77"
      },
      "outputs": [
        {
          "output_type": "execute_result",
          "data": {
            "text/plain": [
              "array([1, 2, 3, 4])"
            ]
          },
          "metadata": {},
          "execution_count": 3
        }
      ],
      "source": [
        "arr = np.array([1, 2, 3, 4])\n",
        "arr"
      ]
    },
    {
      "cell_type": "code",
      "execution_count": null,
      "id": "a693129c-a911-477d-b5a7-13a2e36280c6",
      "metadata": {
        "colab": {
          "base_uri": "https://localhost:8080/"
        },
        "id": "a693129c-a911-477d-b5a7-13a2e36280c6",
        "outputId": "e79eed7b-0e76-46dd-860c-ecdef294e3c7"
      },
      "outputs": [
        {
          "output_type": "execute_result",
          "data": {
            "text/plain": [
              "numpy.ndarray"
            ]
          },
          "metadata": {},
          "execution_count": 4
        }
      ],
      "source": [
        "type(arr)"
      ]
    },
    {
      "cell_type": "code",
      "execution_count": null,
      "id": "3763de39-9cc4-402a-9569-6db740f22fa4",
      "metadata": {
        "colab": {
          "base_uri": "https://localhost:8080/"
        },
        "id": "3763de39-9cc4-402a-9569-6db740f22fa4",
        "outputId": "bab74cef-5d6a-47fa-e824-91d9b70d758b"
      },
      "outputs": [
        {
          "output_type": "execute_result",
          "data": {
            "text/plain": [
              "array([[0., 0., 0.],\n",
              "       [0., 0., 0.],\n",
              "       [0., 0., 0.]])"
            ]
          },
          "metadata": {},
          "execution_count": 5
        }
      ],
      "source": [
        "# zeros array\n",
        "zeros = np.zeros((3,3))\n",
        "zeros"
      ]
    },
    {
      "cell_type": "code",
      "execution_count": null,
      "id": "1ab32c84-d8f7-4248-8855-fc202476ac1a",
      "metadata": {
        "colab": {
          "base_uri": "https://localhost:8080/"
        },
        "id": "1ab32c84-d8f7-4248-8855-fc202476ac1a",
        "outputId": "fb5466d0-0f2a-40e7-9eda-ed4c29eee900"
      },
      "outputs": [
        {
          "output_type": "execute_result",
          "data": {
            "text/plain": [
              "array([[1., 1., 1., 1.],\n",
              "       [1., 1., 1., 1.]])"
            ]
          },
          "metadata": {},
          "execution_count": 6
        }
      ],
      "source": [
        "# ones array\n",
        "ones = np.ones((2,4))\n",
        "ones"
      ]
    },
    {
      "cell_type": "code",
      "execution_count": null,
      "id": "10adeeb3-b946-4fb6-8f3c-b010bc9a5d00",
      "metadata": {
        "colab": {
          "base_uri": "https://localhost:8080/"
        },
        "id": "10adeeb3-b946-4fb6-8f3c-b010bc9a5d00",
        "outputId": "9f943161-e97b-4b4f-8ea7-a7542283715b"
      },
      "outputs": [
        {
          "output_type": "execute_result",
          "data": {
            "text/plain": [
              "array([[4.83966002e-310, 0.00000000e+000],\n",
              "       [6.67327436e-310, 6.67327433e-310]])"
            ]
          },
          "metadata": {},
          "execution_count": 7
        }
      ],
      "source": [
        "# empty array (uninitialized)\n",
        "empty = np.empty((2, 2))\n",
        "empty"
      ]
    },
    {
      "cell_type": "code",
      "execution_count": null,
      "id": "f00f9fad-ac31-43bc-a7fd-ba939d714d11",
      "metadata": {
        "colab": {
          "base_uri": "https://localhost:8080/"
        },
        "id": "f00f9fad-ac31-43bc-a7fd-ba939d714d11",
        "outputId": "2bbd5ed0-e333-422d-cc2b-48600954e3c1"
      },
      "outputs": [
        {
          "output_type": "execute_result",
          "data": {
            "text/plain": [
              "array([0, 2, 4, 6, 8])"
            ]
          },
          "metadata": {},
          "execution_count": 8
        }
      ],
      "source": [
        "# array of range\n",
        "arr_range = np.arange(0, 10, 2)\n",
        "arr_range"
      ]
    },
    {
      "cell_type": "code",
      "execution_count": null,
      "id": "5e5a3390-4811-4a69-b4c5-8a337c26dcc6",
      "metadata": {
        "colab": {
          "base_uri": "https://localhost:8080/"
        },
        "id": "5e5a3390-4811-4a69-b4c5-8a337c26dcc6",
        "outputId": "43d74258-8cee-4df4-8e7d-a5a8696872a1"
      },
      "outputs": [
        {
          "output_type": "stream",
          "name": "stdout",
          "text": [
            "[0.   0.25 0.5  0.75 1.  ]\n"
          ]
        }
      ],
      "source": [
        "# array of evenly spaced number\n",
        "arr_linspace = np.linspace(0, 1, 5)\n",
        "print(arr_linspace)"
      ]
    },
    {
      "cell_type": "code",
      "source": [
        "np.full((2,2), 123)"
      ],
      "metadata": {
        "colab": {
          "base_uri": "https://localhost:8080/"
        },
        "id": "ILmlJpkeYFdM",
        "outputId": "6b1a10b4-18e8-4eaa-e9ab-9dd480830574"
      },
      "id": "ILmlJpkeYFdM",
      "execution_count": null,
      "outputs": [
        {
          "output_type": "execute_result",
          "data": {
            "text/plain": [
              "array([[123, 123],\n",
              "       [123, 123]])"
            ]
          },
          "metadata": {},
          "execution_count": 17
        }
      ]
    },
    {
      "cell_type": "code",
      "source": [
        "np.identity(10)"
      ],
      "metadata": {
        "colab": {
          "base_uri": "https://localhost:8080/"
        },
        "id": "Jf5apduYkBLl",
        "outputId": "13c7ba9e-f1dd-4657-b90f-675de3e57e9b"
      },
      "id": "Jf5apduYkBLl",
      "execution_count": null,
      "outputs": [
        {
          "output_type": "execute_result",
          "data": {
            "text/plain": [
              "array([[1., 0., 0., 0., 0., 0., 0., 0., 0., 0.],\n",
              "       [0., 1., 0., 0., 0., 0., 0., 0., 0., 0.],\n",
              "       [0., 0., 1., 0., 0., 0., 0., 0., 0., 0.],\n",
              "       [0., 0., 0., 1., 0., 0., 0., 0., 0., 0.],\n",
              "       [0., 0., 0., 0., 1., 0., 0., 0., 0., 0.],\n",
              "       [0., 0., 0., 0., 0., 1., 0., 0., 0., 0.],\n",
              "       [0., 0., 0., 0., 0., 0., 1., 0., 0., 0.],\n",
              "       [0., 0., 0., 0., 0., 0., 0., 1., 0., 0.],\n",
              "       [0., 0., 0., 0., 0., 0., 0., 0., 1., 0.],\n",
              "       [0., 0., 0., 0., 0., 0., 0., 0., 0., 1.]])"
            ]
          },
          "metadata": {},
          "execution_count": 75
        }
      ]
    },
    {
      "cell_type": "code",
      "source": [
        "output = np.ones((5,5))\n",
        "print(output)\n",
        "\n",
        "z = np.zeros((3,3))\n",
        "z[1,1] = 9\n",
        "print(z)\n",
        "\n",
        "output[1:-1,1:-1] = z\n",
        "print(output)"
      ],
      "metadata": {
        "colab": {
          "base_uri": "https://localhost:8080/"
        },
        "id": "080c_KKukSQJ",
        "outputId": "eae191b6-673e-4a39-beed-bc15d72831ab"
      },
      "id": "080c_KKukSQJ",
      "execution_count": null,
      "outputs": [
        {
          "output_type": "stream",
          "name": "stdout",
          "text": [
            "[[1. 1. 1. 1. 1.]\n",
            " [1. 1. 1. 1. 1.]\n",
            " [1. 1. 1. 1. 1.]\n",
            " [1. 1. 1. 1. 1.]\n",
            " [1. 1. 1. 1. 1.]]\n",
            "[[0. 0. 0.]\n",
            " [0. 9. 0.]\n",
            " [0. 0. 0.]]\n",
            "[[1. 1. 1. 1. 1.]\n",
            " [1. 0. 0. 0. 1.]\n",
            " [1. 0. 9. 0. 1.]\n",
            " [1. 0. 0. 0. 1.]\n",
            " [1. 1. 1. 1. 1.]]\n"
          ]
        }
      ]
    },
    {
      "cell_type": "markdown",
      "source": [
        "# Copying arrays"
      ],
      "metadata": {
        "id": "THgGtmR6kmIJ"
      },
      "id": "THgGtmR6kmIJ"
    },
    {
      "cell_type": "code",
      "source": [
        "a = np.array([1,2,3])\n",
        "# b = a\n",
        "b = a.copy()\n",
        "b[0] = 100\n",
        "a"
      ],
      "metadata": {
        "colab": {
          "base_uri": "https://localhost:8080/"
        },
        "id": "NJIAVhXMknTp",
        "outputId": "b012d302-85be-4ca7-a768-f3f999c6ea4a"
      },
      "id": "NJIAVhXMknTp",
      "execution_count": null,
      "outputs": [
        {
          "output_type": "execute_result",
          "data": {
            "text/plain": [
              "array([1, 2, 3])"
            ]
          },
          "metadata": {},
          "execution_count": 81
        }
      ]
    },
    {
      "cell_type": "markdown",
      "id": "f84afc18-180e-406a-bcc3-355782ab928c",
      "metadata": {
        "id": "f84afc18-180e-406a-bcc3-355782ab928c"
      },
      "source": [
        "# Array operations"
      ]
    },
    {
      "cell_type": "code",
      "execution_count": null,
      "id": "38fd0359-b0b9-4aa0-b366-3f98c0a9f7b7",
      "metadata": {
        "colab": {
          "base_uri": "https://localhost:8080/"
        },
        "id": "38fd0359-b0b9-4aa0-b366-3f98c0a9f7b7",
        "outputId": "9069f3de-1bec-452f-ee1b-770d8902e85d"
      },
      "outputs": [
        {
          "output_type": "execute_result",
          "data": {
            "text/plain": [
              "[1, 2, 3, 4, 5, 6]"
            ]
          },
          "metadata": {},
          "execution_count": 10
        }
      ],
      "source": [
        "a = [1,2,3]\n",
        "b = [4,5,6]\n",
        "c = a + b\n",
        "c"
      ]
    },
    {
      "cell_type": "code",
      "execution_count": null,
      "id": "b82640b3-a961-4f7e-9291-dcebddae7801",
      "metadata": {
        "colab": {
          "base_uri": "https://localhost:8080/"
        },
        "id": "b82640b3-a961-4f7e-9291-dcebddae7801",
        "outputId": "b79dae45-a13d-467e-c9b9-bf8bb51302cd"
      },
      "outputs": [
        {
          "output_type": "stream",
          "name": "stdout",
          "text": [
            "[5 7 9]\n"
          ]
        }
      ],
      "source": [
        "arr1 = np.array([1, 2, 3])\n",
        "arr2 = np.array([4, 5, 6])\n",
        "sum_arr = arr1 + arr2  # [5, 7, 9]\n",
        "prod_arr = arr1 * arr2  # [4, 10, 18]\n",
        "print(sum_arr)"
      ]
    },
    {
      "cell_type": "code",
      "execution_count": null,
      "id": "96ef9986-701c-47ae-922a-3812038d0776",
      "metadata": {
        "colab": {
          "base_uri": "https://localhost:8080/"
        },
        "id": "96ef9986-701c-47ae-922a-3812038d0776",
        "outputId": "1c61fafc-40d2-43e9-a7a9-b9fadb4ce7b3"
      },
      "outputs": [
        {
          "output_type": "stream",
          "name": "stdout",
          "text": [
            "[ 4 10 18]\n"
          ]
        }
      ],
      "source": [
        "print(prod_arr)"
      ]
    },
    {
      "cell_type": "markdown",
      "source": [
        "# Array Attributes"
      ],
      "metadata": {
        "id": "Ktt2UjFlRhpH"
      },
      "id": "Ktt2UjFlRhpH"
    },
    {
      "cell_type": "code",
      "source": [
        "# dimensions of the array\n",
        "arr1.shape"
      ],
      "metadata": {
        "colab": {
          "base_uri": "https://localhost:8080/"
        },
        "id": "bORrFYVwRjIW",
        "outputId": "72f5707d-f956-4799-84ca-fa9702330f96"
      },
      "id": "bORrFYVwRjIW",
      "execution_count": null,
      "outputs": [
        {
          "output_type": "execute_result",
          "data": {
            "text/plain": [
              "(3,)"
            ]
          },
          "metadata": {},
          "execution_count": 13
        }
      ]
    },
    {
      "cell_type": "code",
      "source": [
        "# type elements in the array\n",
        "arr.dtype"
      ],
      "metadata": {
        "colab": {
          "base_uri": "https://localhost:8080/"
        },
        "id": "zDKRE2VsRmsw",
        "outputId": "89210e1f-5f45-4773-803e-04c3390a8fdb"
      },
      "id": "zDKRE2VsRmsw",
      "execution_count": null,
      "outputs": [
        {
          "output_type": "execute_result",
          "data": {
            "text/plain": [
              "dtype('int64')"
            ]
          },
          "metadata": {},
          "execution_count": 14
        }
      ]
    },
    {
      "cell_type": "code",
      "source": [
        "arr = np.array([1,2,3,4,5], dtype='int16')\n",
        "arr.dtype"
      ],
      "metadata": {
        "colab": {
          "base_uri": "https://localhost:8080/"
        },
        "id": "gAT2qJ6oXLFx",
        "outputId": "41a822b4-5ba0-457d-b76b-ec6d05065bbb"
      },
      "id": "gAT2qJ6oXLFx",
      "execution_count": null,
      "outputs": [
        {
          "output_type": "execute_result",
          "data": {
            "text/plain": [
              "dtype('int16')"
            ]
          },
          "metadata": {},
          "execution_count": 10
        }
      ]
    },
    {
      "cell_type": "code",
      "source": [
        "# number of elements in the array\n",
        "arr.size"
      ],
      "metadata": {
        "colab": {
          "base_uri": "https://localhost:8080/"
        },
        "id": "Hs14fI0gRoFM",
        "outputId": "d7535178-9b9e-4f7f-9a39-b0dd76e92031"
      },
      "id": "Hs14fI0gRoFM",
      "execution_count": null,
      "outputs": [
        {
          "output_type": "execute_result",
          "data": {
            "text/plain": [
              "5"
            ]
          },
          "metadata": {},
          "execution_count": 11
        }
      ]
    },
    {
      "cell_type": "code",
      "source": [
        "arr.itemsize"
      ],
      "metadata": {
        "colab": {
          "base_uri": "https://localhost:8080/"
        },
        "id": "ymXTlHbkXhUk",
        "outputId": "d027956f-553c-477a-d95e-590cc9a31494"
      },
      "id": "ymXTlHbkXhUk",
      "execution_count": null,
      "outputs": [
        {
          "output_type": "execute_result",
          "data": {
            "text/plain": [
              "2"
            ]
          },
          "metadata": {},
          "execution_count": 12
        }
      ]
    },
    {
      "cell_type": "code",
      "source": [
        "# number of dimensions\n",
        "arr.ndim"
      ],
      "metadata": {
        "colab": {
          "base_uri": "https://localhost:8080/"
        },
        "id": "qyV4mUY_RtGY",
        "outputId": "2d3b2e06-b303-4fff-cd33-cd190864ff37"
      },
      "id": "qyV4mUY_RtGY",
      "execution_count": null,
      "outputs": [
        {
          "output_type": "execute_result",
          "data": {
            "text/plain": [
              "1"
            ]
          },
          "metadata": {},
          "execution_count": 16
        }
      ]
    },
    {
      "cell_type": "markdown",
      "source": [
        "# Reshaping and Transposing"
      ],
      "metadata": {
        "id": "2fh3y803R-ip"
      },
      "id": "2fh3y803R-ip"
    },
    {
      "cell_type": "code",
      "source": [
        "arr_reshaped = arr.reshape((2, 2))\n",
        "arr_reshaped"
      ],
      "metadata": {
        "colab": {
          "base_uri": "https://localhost:8080/"
        },
        "id": "l-Hp84BtSAqh",
        "outputId": "b5f3057e-0006-43b9-88c5-864986608171"
      },
      "id": "l-Hp84BtSAqh",
      "execution_count": null,
      "outputs": [
        {
          "output_type": "execute_result",
          "data": {
            "text/plain": [
              "array([[1, 2],\n",
              "       [3, 4]])"
            ]
          },
          "metadata": {},
          "execution_count": 19
        }
      ]
    },
    {
      "cell_type": "code",
      "source": [
        "arr_transposed = arr_reshaped.T\n",
        "arr_transposed"
      ],
      "metadata": {
        "colab": {
          "base_uri": "https://localhost:8080/"
        },
        "id": "xx2tZF7XSEe8",
        "outputId": "01e3d6bc-e6b7-4217-ce45-a6f0f223d7c7"
      },
      "id": "xx2tZF7XSEe8",
      "execution_count": null,
      "outputs": [
        {
          "output_type": "execute_result",
          "data": {
            "text/plain": [
              "array([[1, 3],\n",
              "       [2, 4]])"
            ]
          },
          "metadata": {},
          "execution_count": 25
        }
      ]
    },
    {
      "cell_type": "markdown",
      "source": [
        "# Slicing and Indexing"
      ],
      "metadata": {
        "id": "xh26OMwxSoch"
      },
      "id": "xh26OMwxSoch"
    },
    {
      "cell_type": "code",
      "source": [
        "# Basic slicing\n",
        "arr = np.array([10,20,30,40,50])\n",
        "arr[1:3]"
      ],
      "metadata": {
        "colab": {
          "base_uri": "https://localhost:8080/"
        },
        "id": "eoPhDh7ESp_u",
        "outputId": "261d8cda-af5c-4c19-c365-b062d9936ac4"
      },
      "id": "eoPhDh7ESp_u",
      "execution_count": null,
      "outputs": [
        {
          "output_type": "execute_result",
          "data": {
            "text/plain": [
              "array([20, 30])"
            ]
          },
          "metadata": {},
          "execution_count": 27
        }
      ]
    },
    {
      "cell_type": "code",
      "source": [
        "# Multidimensional slicing\n",
        "arr_2d = np.array([[1, 2, 3], [4, 5, 6], [7, 8, 9]])\n",
        "arr_2d[1:, :2]"
      ],
      "metadata": {
        "colab": {
          "base_uri": "https://localhost:8080/"
        },
        "id": "42OEPEnwSuC6",
        "outputId": "e8437573-3352-4d56-e141-35fe212d1609"
      },
      "id": "42OEPEnwSuC6",
      "execution_count": null,
      "outputs": [
        {
          "output_type": "execute_result",
          "data": {
            "text/plain": [
              "array([[4, 5],\n",
              "       [7, 8]])"
            ]
          },
          "metadata": {},
          "execution_count": 14
        }
      ]
    },
    {
      "cell_type": "code",
      "source": [
        "arr_2d[1,1]"
      ],
      "metadata": {
        "colab": {
          "base_uri": "https://localhost:8080/"
        },
        "id": "G3OP1eIUXv8V",
        "outputId": "2f016dc5-d736-46fc-ef24-276bb3861bd3"
      },
      "id": "G3OP1eIUXv8V",
      "execution_count": null,
      "outputs": [
        {
          "output_type": "execute_result",
          "data": {
            "text/plain": [
              "5"
            ]
          },
          "metadata": {},
          "execution_count": 15
        }
      ]
    },
    {
      "cell_type": "code",
      "source": [
        "arr_2d[:, 1]"
      ],
      "metadata": {
        "colab": {
          "base_uri": "https://localhost:8080/"
        },
        "id": "EOjLin_RX2Q1",
        "outputId": "0408e475-a3a9-460e-8233-a3b2261d0af4"
      },
      "id": "EOjLin_RX2Q1",
      "execution_count": null,
      "outputs": [
        {
          "output_type": "execute_result",
          "data": {
            "text/plain": [
              "array([2, 5, 8])"
            ]
          },
          "metadata": {},
          "execution_count": 16
        }
      ]
    },
    {
      "cell_type": "markdown",
      "source": [
        "# Broadcasting"
      ],
      "metadata": {
        "id": "zwgW5gzZTMZU"
      },
      "id": "zwgW5gzZTMZU"
    },
    {
      "cell_type": "code",
      "source": [
        "arr = np.array([1, 2, 3])\n",
        "arr_broadcast = arr + 5\n",
        "arr_broadcast"
      ],
      "metadata": {
        "colab": {
          "base_uri": "https://localhost:8080/"
        },
        "id": "1_RgFUzpTMmQ",
        "outputId": "f3e21ee8-6fb6-4152-aaeb-bd5d0c5be5c5"
      },
      "id": "1_RgFUzpTMmQ",
      "execution_count": null,
      "outputs": [
        {
          "output_type": "execute_result",
          "data": {
            "text/plain": [
              "array([6, 7, 8])"
            ]
          },
          "metadata": {},
          "execution_count": 82
        }
      ]
    },
    {
      "cell_type": "code",
      "source": [
        "arr_broadcast = arr * 5\n",
        "arr_broadcast"
      ],
      "metadata": {
        "colab": {
          "base_uri": "https://localhost:8080/"
        },
        "id": "6c4gWGpUk3yp",
        "outputId": "b214f12d-58fe-4623-c353-3a32708e1ce1"
      },
      "id": "6c4gWGpUk3yp",
      "execution_count": null,
      "outputs": [
        {
          "output_type": "execute_result",
          "data": {
            "text/plain": [
              "array([ 5, 10, 15])"
            ]
          },
          "metadata": {},
          "execution_count": 84
        }
      ]
    },
    {
      "cell_type": "code",
      "source": [
        "# Array with shape (3,)\n",
        "a = np.array([1, 2, 3])\n",
        "\n",
        "# Array with shape (3, 1)\n",
        "b = np.array([[10], [20], [30]])\n",
        "\n",
        "# Broadcasting adds an extra dimension to 'a' and performs element-wise addition\n",
        "result = a + b\n",
        "result"
      ],
      "metadata": {
        "colab": {
          "base_uri": "https://localhost:8080/"
        },
        "id": "XN-6Wli4fH3_",
        "outputId": "826af14b-65b9-435b-d75b-69163d54c998"
      },
      "id": "XN-6Wli4fH3_",
      "execution_count": null,
      "outputs": [
        {
          "output_type": "execute_result",
          "data": {
            "text/plain": [
              "array([[11, 12, 13],\n",
              "       [21, 22, 23],\n",
              "       [31, 32, 33]])"
            ]
          },
          "metadata": {},
          "execution_count": 31
        }
      ]
    },
    {
      "cell_type": "markdown",
      "source": [
        "# Useful Functions"
      ],
      "metadata": {
        "id": "falAZAQxTT_q"
      },
      "id": "falAZAQxTT_q"
    },
    {
      "cell_type": "code",
      "source": [
        "# sum of elements\n",
        "arr = np.array([1,2,3,4,5,6,7,8,9,10])\n",
        "np.sum(arr)"
      ],
      "metadata": {
        "colab": {
          "base_uri": "https://localhost:8080/"
        },
        "id": "L_JV92V0TVOf",
        "outputId": "2b46dbc5-283a-47f1-98e6-517d75028278"
      },
      "id": "L_JV92V0TVOf",
      "execution_count": null,
      "outputs": [
        {
          "output_type": "execute_result",
          "data": {
            "text/plain": [
              "55"
            ]
          },
          "metadata": {},
          "execution_count": 31
        }
      ]
    },
    {
      "cell_type": "code",
      "source": [
        "np.mean(arr)"
      ],
      "metadata": {
        "colab": {
          "base_uri": "https://localhost:8080/"
        },
        "id": "059tzO4LTXiY",
        "outputId": "0dac8eb4-b9df-4873-eda9-b9840e6fc088"
      },
      "id": "059tzO4LTXiY",
      "execution_count": null,
      "outputs": [
        {
          "output_type": "execute_result",
          "data": {
            "text/plain": [
              "5.5"
            ]
          },
          "metadata": {},
          "execution_count": 32
        }
      ]
    },
    {
      "cell_type": "code",
      "source": [
        "np.std(arr)"
      ],
      "metadata": {
        "colab": {
          "base_uri": "https://localhost:8080/"
        },
        "id": "lwrSfO22TcPI",
        "outputId": "1d7559e8-f350-46f8-938e-8963625f0bf2"
      },
      "id": "lwrSfO22TcPI",
      "execution_count": null,
      "outputs": [
        {
          "output_type": "execute_result",
          "data": {
            "text/plain": [
              "2.8722813232690143"
            ]
          },
          "metadata": {},
          "execution_count": 33
        }
      ]
    },
    {
      "cell_type": "code",
      "source": [
        "np.max(arr)"
      ],
      "metadata": {
        "colab": {
          "base_uri": "https://localhost:8080/"
        },
        "id": "A3rRrtmaTdju",
        "outputId": "37dd7770-fffc-450f-8ee2-23d8d95bebd3"
      },
      "id": "A3rRrtmaTdju",
      "execution_count": null,
      "outputs": [
        {
          "output_type": "execute_result",
          "data": {
            "text/plain": [
              "10"
            ]
          },
          "metadata": {},
          "execution_count": 34
        }
      ]
    },
    {
      "cell_type": "code",
      "source": [
        "np.min(arr)"
      ],
      "metadata": {
        "colab": {
          "base_uri": "https://localhost:8080/"
        },
        "id": "gNCKr5L2Tf_t",
        "outputId": "ac428071-510c-4f27-f0a9-fe1316d0aa93"
      },
      "id": "gNCKr5L2Tf_t",
      "execution_count": null,
      "outputs": [
        {
          "output_type": "execute_result",
          "data": {
            "text/plain": [
              "1"
            ]
          },
          "metadata": {},
          "execution_count": 35
        }
      ]
    },
    {
      "cell_type": "code",
      "source": [
        "arr_2d = np.array([[1, 2, 3], [4, 5, 6], [7, 8, 9]])\n",
        "np.min(arr_2d, axis=1)"
      ],
      "metadata": {
        "colab": {
          "base_uri": "https://localhost:8080/"
        },
        "id": "7HRo6dz6r_-O",
        "outputId": "d4c01e58-fc8b-4e9d-bc9f-465ef81fade2"
      },
      "id": "7HRo6dz6r_-O",
      "execution_count": null,
      "outputs": [
        {
          "output_type": "execute_result",
          "data": {
            "text/plain": [
              "array([1, 4, 7])"
            ]
          },
          "metadata": {},
          "execution_count": 94
        }
      ]
    },
    {
      "cell_type": "markdown",
      "source": [
        "# Random numbers"
      ],
      "metadata": {
        "id": "526xETnJYY0p"
      },
      "id": "526xETnJYY0p"
    },
    {
      "cell_type": "code",
      "source": [
        "# Random array\n",
        "np.random.seed(0)\n",
        "random_arr = np.random.rand(3,3)\n",
        "random_arr"
      ],
      "metadata": {
        "colab": {
          "base_uri": "https://localhost:8080/"
        },
        "id": "VVTFKk0sYaAK",
        "outputId": "ba86d588-f8d6-48b4-fa42-27ab1dcb9590"
      },
      "id": "VVTFKk0sYaAK",
      "execution_count": null,
      "outputs": [
        {
          "output_type": "execute_result",
          "data": {
            "text/plain": [
              "array([[0.5488135 , 0.71518937, 0.60276338],\n",
              "       [0.54488318, 0.4236548 , 0.64589411],\n",
              "       [0.43758721, 0.891773  , 0.96366276]])"
            ]
          },
          "metadata": {},
          "execution_count": 23
        }
      ]
    },
    {
      "cell_type": "code",
      "source": [
        "rand_ints = np.random.randint(0, 10, size=(2,2))\n",
        "rand_ints"
      ],
      "metadata": {
        "colab": {
          "base_uri": "https://localhost:8080/"
        },
        "id": "AP_r_osfakW5",
        "outputId": "7764e8f1-9710-4d8e-db74-bdc658d969d2"
      },
      "id": "AP_r_osfakW5",
      "execution_count": null,
      "outputs": [
        {
          "output_type": "execute_result",
          "data": {
            "text/plain": [
              "array([[2, 4],\n",
              "       [7, 6]])"
            ]
          },
          "metadata": {},
          "execution_count": 73
        }
      ]
    },
    {
      "cell_type": "markdown",
      "source": [
        "# Fancy indexing"
      ],
      "metadata": {
        "id": "xQcWvMwEfBHF"
      },
      "id": "xQcWvMwEfBHF"
    },
    {
      "cell_type": "code",
      "source": [
        "arr = np.array([10, 20, 30, 40, 50])\n",
        "bool_arr = arr > 30\n",
        "result = arr[bool_arr]\n",
        "result"
      ],
      "metadata": {
        "colab": {
          "base_uri": "https://localhost:8080/"
        },
        "id": "0_4joTxYfCb4",
        "outputId": "2bc69b0c-6631-4a7e-bd07-2719d4c4d248"
      },
      "id": "0_4joTxYfCb4",
      "execution_count": null,
      "outputs": [
        {
          "output_type": "execute_result",
          "data": {
            "text/plain": [
              "array([40, 50])"
            ]
          },
          "metadata": {},
          "execution_count": 33
        }
      ]
    },
    {
      "cell_type": "code",
      "source": [
        "arr[[True, True, False, False, False]]"
      ],
      "metadata": {
        "colab": {
          "base_uri": "https://localhost:8080/"
        },
        "id": "JkEVHXcefxJo",
        "outputId": "8e0297ff-5646-4d64-b463-57bbdc714b9f"
      },
      "id": "JkEVHXcefxJo",
      "execution_count": null,
      "outputs": [
        {
          "output_type": "execute_result",
          "data": {
            "text/plain": [
              "array([10, 20])"
            ]
          },
          "metadata": {},
          "execution_count": 38
        }
      ]
    },
    {
      "cell_type": "markdown",
      "source": [
        "# Linear algebra"
      ],
      "metadata": {
        "id": "30LDFpk-gaAb"
      },
      "id": "30LDFpk-gaAb"
    },
    {
      "cell_type": "code",
      "source": [
        "# Dot product\n",
        "a = np.array([1, 2])\n",
        "b = np.array([3, 4])\n",
        "dot_product = np.dot(a, b)\n",
        "dot_product"
      ],
      "metadata": {
        "colab": {
          "base_uri": "https://localhost:8080/"
        },
        "id": "LmdufD0Uga9Q",
        "outputId": "2e3fca1a-220a-4e9f-d932-fe65a17b097c"
      },
      "id": "LmdufD0Uga9Q",
      "execution_count": null,
      "outputs": [
        {
          "output_type": "execute_result",
          "data": {
            "text/plain": [
              "11"
            ]
          },
          "metadata": {},
          "execution_count": 48
        }
      ]
    },
    {
      "cell_type": "code",
      "source": [
        "# Equivalent using @ operator\n",
        "dot_product = a @ b\n",
        "dot_product"
      ],
      "metadata": {
        "colab": {
          "base_uri": "https://localhost:8080/"
        },
        "id": "qGmoasBOgd6X",
        "outputId": "ce99d4f8-7629-4070-ca47-026cd59b7ca9"
      },
      "id": "qGmoasBOgd6X",
      "execution_count": null,
      "outputs": [
        {
          "output_type": "execute_result",
          "data": {
            "text/plain": [
              "11"
            ]
          },
          "metadata": {},
          "execution_count": 49
        }
      ]
    },
    {
      "cell_type": "code",
      "source": [
        "# Matrix multiplication (applies if the dtype is matrix)\n",
        "mat1 = np.array([[1, 2], [3, 4]])\n",
        "mat2 = np.array([[5, 6], [7, 8]])\n",
        "result = np.dot(mat1, mat2)\n",
        "result"
      ],
      "metadata": {
        "colab": {
          "base_uri": "https://localhost:8080/"
        },
        "id": "ni8orzcJgriI",
        "outputId": "220f7a2c-56cb-4d56-d36f-ab80c57cf87d"
      },
      "id": "ni8orzcJgriI",
      "execution_count": null,
      "outputs": [
        {
          "output_type": "execute_result",
          "data": {
            "text/plain": [
              "array([[19, 22],\n",
              "       [43, 50]])"
            ]
          },
          "metadata": {},
          "execution_count": 51
        }
      ]
    },
    {
      "cell_type": "code",
      "source": [
        "# Inverse of a matrix\n",
        "mat = np.array([[1, 2], [3, 4]])\n",
        "inv_mat = np.linalg.inv(mat)\n",
        "inv_mat"
      ],
      "metadata": {
        "colab": {
          "base_uri": "https://localhost:8080/"
        },
        "id": "BsUa8mrVguAt",
        "outputId": "0db98d07-9366-4985-ddb1-f0db36603eda"
      },
      "id": "BsUa8mrVguAt",
      "execution_count": null,
      "outputs": [
        {
          "output_type": "execute_result",
          "data": {
            "text/plain": [
              "array([[-2. ,  1. ],\n",
              "       [ 1.5, -0.5]])"
            ]
          },
          "metadata": {},
          "execution_count": 61
        }
      ]
    },
    {
      "cell_type": "code",
      "source": [
        "result = np.dot(mat, inv_mat)\n",
        "result"
      ],
      "metadata": {
        "colab": {
          "base_uri": "https://localhost:8080/"
        },
        "id": "cCuzRIylhgpZ",
        "outputId": "9efc5dfb-e86e-46d3-850d-9251ceb57b6c"
      },
      "id": "cCuzRIylhgpZ",
      "execution_count": null,
      "outputs": [
        {
          "output_type": "execute_result",
          "data": {
            "text/plain": [
              "array([[1.0000000e+00, 0.0000000e+00],\n",
              "       [8.8817842e-16, 1.0000000e+00]])"
            ]
          },
          "metadata": {},
          "execution_count": 64
        }
      ]
    },
    {
      "cell_type": "code",
      "source": [
        "np.round(result).astype('int')"
      ],
      "metadata": {
        "colab": {
          "base_uri": "https://localhost:8080/"
        },
        "id": "DwwWCP_GhpFD",
        "outputId": "a0ae484f-c049-497f-b1b3-de4aa57b49c4"
      },
      "id": "DwwWCP_GhpFD",
      "execution_count": null,
      "outputs": [
        {
          "output_type": "execute_result",
          "data": {
            "text/plain": [
              "array([[1, 0],\n",
              "       [0, 1]])"
            ]
          },
          "metadata": {},
          "execution_count": 67
        }
      ]
    },
    {
      "cell_type": "code",
      "source": [
        "# Determinant\n",
        "det = np.linalg.det(mat)\n",
        "np.round(det)"
      ],
      "metadata": {
        "colab": {
          "base_uri": "https://localhost:8080/"
        },
        "id": "CxXHj2dZh2d-",
        "outputId": "253d0053-05f3-4c3a-e9e6-6112e452ced3"
      },
      "id": "CxXHj2dZh2d-",
      "execution_count": null,
      "outputs": [
        {
          "output_type": "execute_result",
          "data": {
            "text/plain": [
              "-2.0"
            ]
          },
          "metadata": {},
          "execution_count": 69
        }
      ]
    },
    {
      "cell_type": "code",
      "source": [
        "vals, vecs = np.linalg.eig(mat)\n",
        "vals, vecs"
      ],
      "metadata": {
        "colab": {
          "base_uri": "https://localhost:8080/"
        },
        "id": "Nxi0TkkNiUxj",
        "outputId": "f02551a0-8391-4243-eee2-80b41e4a9ef4"
      },
      "id": "Nxi0TkkNiUxj",
      "execution_count": null,
      "outputs": [
        {
          "output_type": "execute_result",
          "data": {
            "text/plain": [
              "(array([-0.37228132,  5.37228132]),\n",
              " array([[-0.82456484, -0.41597356],\n",
              "        [ 0.56576746, -0.90937671]]))"
            ]
          },
          "metadata": {},
          "execution_count": 70
        }
      ]
    },
    {
      "cell_type": "code",
      "source": [
        "# Solving systems of linear equations\n",
        "# this solves the system Ax=b\n",
        "A = np.array([[3, 1], [1, 2]])\n",
        "b = np.array([9, 8])\n",
        "x = np.linalg.solve(A, b)\n",
        "x"
      ],
      "metadata": {
        "colab": {
          "base_uri": "https://localhost:8080/"
        },
        "id": "kDxVosZQjbDe",
        "outputId": "556eef54-56ff-4b0e-b1da-50ad18c5611e"
      },
      "id": "kDxVosZQjbDe",
      "execution_count": null,
      "outputs": [
        {
          "output_type": "execute_result",
          "data": {
            "text/plain": [
              "array([2., 3.])"
            ]
          },
          "metadata": {},
          "execution_count": 71
        }
      ]
    },
    {
      "cell_type": "code",
      "source": [
        "A.dot(x)"
      ],
      "metadata": {
        "colab": {
          "base_uri": "https://localhost:8080/"
        },
        "id": "R8SU40QijtuG",
        "outputId": "7017700a-009d-4c70-aff4-74792667421a"
      },
      "id": "R8SU40QijtuG",
      "execution_count": null,
      "outputs": [
        {
          "output_type": "execute_result",
          "data": {
            "text/plain": [
              "array([9., 8.])"
            ]
          },
          "metadata": {},
          "execution_count": 72
        }
      ]
    },
    {
      "cell_type": "code",
      "source": [
        "np.cos(A)"
      ],
      "metadata": {
        "colab": {
          "base_uri": "https://localhost:8080/"
        },
        "id": "1CMlS5mCjxAn",
        "outputId": "9d84a4b2-8ef9-4d21-a915-47fd9e065102"
      },
      "id": "1CMlS5mCjxAn",
      "execution_count": null,
      "outputs": [
        {
          "output_type": "execute_result",
          "data": {
            "text/plain": [
              "array([[-0.9899925 ,  0.54030231],\n",
              "       [ 0.54030231, -0.41614684]])"
            ]
          },
          "metadata": {},
          "execution_count": 85
        }
      ]
    },
    {
      "cell_type": "code",
      "source": [
        "# dot and matmul is the same for matrix multiplication\n",
        "a = np.ones((2,4))\n",
        "print(a)\n",
        "\n",
        "b = np.full((4,2), 3)\n",
        "print(b)\n",
        "\n",
        "np.matmul(a,b)"
      ],
      "metadata": {
        "colab": {
          "base_uri": "https://localhost:8080/"
        },
        "id": "Y_alk1NWlQS3",
        "outputId": "c117c983-3bba-4b1b-d7c4-438f582ff30e"
      },
      "id": "Y_alk1NWlQS3",
      "execution_count": null,
      "outputs": [
        {
          "output_type": "stream",
          "name": "stdout",
          "text": [
            "[[1. 1. 1. 1.]\n",
            " [1. 1. 1. 1.]]\n",
            "[[3 3]\n",
            " [3 3]\n",
            " [3 3]\n",
            " [3 3]]\n"
          ]
        },
        {
          "output_type": "execute_result",
          "data": {
            "text/plain": [
              "array([[12., 12.],\n",
              "       [12., 12.]])"
            ]
          },
          "metadata": {},
          "execution_count": 89
        }
      ]
    },
    {
      "cell_type": "code",
      "source": [],
      "metadata": {
        "id": "j-NEpR_MrxSL"
      },
      "id": "j-NEpR_MrxSL",
      "execution_count": null,
      "outputs": []
    }
  ],
  "metadata": {
    "kernelspec": {
      "display_name": "Python 3 (ipykernel)",
      "language": "python",
      "name": "python3"
    },
    "language_info": {
      "codemirror_mode": {
        "name": "ipython",
        "version": 3
      },
      "file_extension": ".py",
      "mimetype": "text/x-python",
      "name": "python",
      "nbconvert_exporter": "python",
      "pygments_lexer": "ipython3",
      "version": "3.12.4"
    },
    "colab": {
      "provenance": []
    }
  },
  "nbformat": 4,
  "nbformat_minor": 5
}