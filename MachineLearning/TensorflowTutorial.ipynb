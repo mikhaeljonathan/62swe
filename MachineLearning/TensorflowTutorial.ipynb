{
  "nbformat": 4,
  "nbformat_minor": 0,
  "metadata": {
    "colab": {
      "provenance": [],
      "gpuType": "T4"
    },
    "kernelspec": {
      "name": "python3",
      "display_name": "Python 3"
    },
    "language_info": {
      "name": "python"
    },
    "accelerator": "GPU"
  },
  "cells": [
    {
      "cell_type": "markdown",
      "source": [
        "# Introduction to Tensors"
      ],
      "metadata": {
        "id": "JUVFX6LY7V8p"
      }
    },
    {
      "cell_type": "code",
      "source": [
        "import tensorflow as tf\n",
        "print(tf.__version__)"
      ],
      "metadata": {
        "colab": {
          "base_uri": "https://localhost:8080/"
        },
        "id": "mqDh7WxK7YOI",
        "outputId": "26444326-e944-433a-e630-c820422c9a5e"
      },
      "execution_count": null,
      "outputs": [
        {
          "output_type": "stream",
          "name": "stdout",
          "text": [
            "2.17.0\n"
          ]
        }
      ]
    },
    {
      "cell_type": "code",
      "source": [
        "scalar = tf.constant(7)\n",
        "scalar"
      ],
      "metadata": {
        "colab": {
          "base_uri": "https://localhost:8080/"
        },
        "id": "qW3TNXQG7a7W",
        "outputId": "2a142222-167f-4d59-f705-88f68dfcf8ff"
      },
      "execution_count": null,
      "outputs": [
        {
          "output_type": "execute_result",
          "data": {
            "text/plain": [
              "<tf.Tensor: shape=(), dtype=int32, numpy=7>"
            ]
          },
          "metadata": {},
          "execution_count": 2
        }
      ]
    },
    {
      "cell_type": "code",
      "source": [
        "scalar.ndim"
      ],
      "metadata": {
        "colab": {
          "base_uri": "https://localhost:8080/"
        },
        "id": "Kt8vA1kw719K",
        "outputId": "d285c986-48a7-4adf-a9df-1c76fe8aec11"
      },
      "execution_count": null,
      "outputs": [
        {
          "output_type": "execute_result",
          "data": {
            "text/plain": [
              "0"
            ]
          },
          "metadata": {},
          "execution_count": 3
        }
      ]
    },
    {
      "cell_type": "code",
      "source": [
        "scalar.numpy()"
      ],
      "metadata": {
        "colab": {
          "base_uri": "https://localhost:8080/"
        },
        "id": "ERQIuJvg72qO",
        "outputId": "c472e867-57db-4a04-f1e1-14aa3b126283"
      },
      "execution_count": null,
      "outputs": [
        {
          "output_type": "execute_result",
          "data": {
            "text/plain": [
              "7"
            ]
          },
          "metadata": {},
          "execution_count": 4
        }
      ]
    },
    {
      "cell_type": "code",
      "source": [
        "# craete a vector\n",
        "vector = tf.constant([10, 10])\n",
        "vector"
      ],
      "metadata": {
        "id": "BtpjZaWq8JlD",
        "colab": {
          "base_uri": "https://localhost:8080/"
        },
        "outputId": "4b7f970c-f379-4623-f7a0-7765f539b399"
      },
      "execution_count": null,
      "outputs": [
        {
          "output_type": "execute_result",
          "data": {
            "text/plain": [
              "<tf.Tensor: shape=(2,), dtype=int32, numpy=array([10, 10], dtype=int32)>"
            ]
          },
          "metadata": {},
          "execution_count": 5
        }
      ]
    },
    {
      "cell_type": "code",
      "source": [
        "vector.ndim"
      ],
      "metadata": {
        "colab": {
          "base_uri": "https://localhost:8080/"
        },
        "id": "iANPDeNvwbE0",
        "outputId": "e07a6c75-aa7e-4a0f-c4bc-cdeca8f41d2d"
      },
      "execution_count": null,
      "outputs": [
        {
          "output_type": "execute_result",
          "data": {
            "text/plain": [
              "1"
            ]
          },
          "metadata": {},
          "execution_count": 6
        }
      ]
    },
    {
      "cell_type": "code",
      "source": [
        "# create a matrix (more than 1 dimension)\n",
        "matrix = tf.constant(([10, 7],\n",
        "                     [7, 10]))\n",
        "matrix"
      ],
      "metadata": {
        "colab": {
          "base_uri": "https://localhost:8080/"
        },
        "id": "AOgbZc8Fwb-N",
        "outputId": "32e292f1-6b81-4fbc-91d4-4846541d4e53"
      },
      "execution_count": null,
      "outputs": [
        {
          "output_type": "execute_result",
          "data": {
            "text/plain": [
              "<tf.Tensor: shape=(2, 2), dtype=int32, numpy=\n",
              "array([[10,  7],\n",
              "       [ 7, 10]], dtype=int32)>"
            ]
          },
          "metadata": {},
          "execution_count": 7
        }
      ]
    },
    {
      "cell_type": "code",
      "source": [
        "matrix.ndim"
      ],
      "metadata": {
        "colab": {
          "base_uri": "https://localhost:8080/"
        },
        "id": "6zBbFYAqwc1E",
        "outputId": "0a5de4b0-9aab-4582-dc25-3cbfe4665eba"
      },
      "execution_count": null,
      "outputs": [
        {
          "output_type": "execute_result",
          "data": {
            "text/plain": [
              "2"
            ]
          },
          "metadata": {},
          "execution_count": 8
        }
      ]
    },
    {
      "cell_type": "code",
      "source": [
        "another_matrix = tf.constant([[10., 7.],\n",
        "                          [3., 2.],\n",
        "                          [8., 9.]], dtype=tf.float16)\n",
        "another_matrix"
      ],
      "metadata": {
        "colab": {
          "base_uri": "https://localhost:8080/"
        },
        "id": "btZ8MQIswd80",
        "outputId": "129ce1fa-ecf9-4aa8-cef8-81848e36734e"
      },
      "execution_count": null,
      "outputs": [
        {
          "output_type": "execute_result",
          "data": {
            "text/plain": [
              "<tf.Tensor: shape=(3, 2), dtype=float16, numpy=\n",
              "array([[10.,  7.],\n",
              "       [ 3.,  2.],\n",
              "       [ 8.,  9.]], dtype=float16)>"
            ]
          },
          "metadata": {},
          "execution_count": 9
        }
      ]
    },
    {
      "cell_type": "code",
      "source": [
        "tensor = tf.constant([[[1, 2, 3],\n",
        "                        [4,5,6]],\n",
        "                      [[7,8,9],\n",
        "                      [10,11,12]]])\n",
        "tensor"
      ],
      "metadata": {
        "colab": {
          "base_uri": "https://localhost:8080/"
        },
        "id": "Ry8T4G98west",
        "outputId": "ac4bb791-e4ec-4b7a-e618-6d5b3618c349"
      },
      "execution_count": null,
      "outputs": [
        {
          "output_type": "execute_result",
          "data": {
            "text/plain": [
              "<tf.Tensor: shape=(2, 2, 3), dtype=int32, numpy=\n",
              "array([[[ 1,  2,  3],\n",
              "        [ 4,  5,  6]],\n",
              "\n",
              "       [[ 7,  8,  9],\n",
              "        [10, 11, 12]]], dtype=int32)>"
            ]
          },
          "metadata": {},
          "execution_count": 10
        }
      ]
    },
    {
      "cell_type": "code",
      "source": [
        "tensor.ndim"
      ],
      "metadata": {
        "colab": {
          "base_uri": "https://localhost:8080/"
        },
        "id": "CD4kLL-Xwfgs",
        "outputId": "678c7d21-7b15-40ec-c71d-11515daf0755"
      },
      "execution_count": null,
      "outputs": [
        {
          "output_type": "execute_result",
          "data": {
            "text/plain": [
              "3"
            ]
          },
          "metadata": {},
          "execution_count": 11
        }
      ]
    },
    {
      "cell_type": "markdown",
      "source": [
        "\n",
        "\n",
        "*   scalar -> single number\n",
        "*   vector -> a number with direction\n",
        "*   matrix -> 2-dim array of numbers\n",
        "*   tensor -> n-dim array of numbers"
      ],
      "metadata": {
        "id": "bNB8E5TkwizI"
      }
    },
    {
      "cell_type": "markdown",
      "source": [
        "# TF Variable"
      ],
      "metadata": {
        "id": "-Q_UIUIqxDDZ"
      }
    },
    {
      "cell_type": "code",
      "source": [
        "changeable_tensor = tf.Variable([10, 7])\n",
        "unchangeable_tensor = tf.constant([10, 7])\n",
        "changeable_tensor, unchangeable_tensor"
      ],
      "metadata": {
        "id": "dSfF9vXJwiaK",
        "colab": {
          "base_uri": "https://localhost:8080/"
        },
        "outputId": "2b6ba6cf-d71f-43e3-ae40-a7eeebaeab44"
      },
      "execution_count": null,
      "outputs": [
        {
          "output_type": "execute_result",
          "data": {
            "text/plain": [
              "(<tf.Variable 'Variable:0' shape=(2,) dtype=int32, numpy=array([10,  7], dtype=int32)>,\n",
              " <tf.Tensor: shape=(2,), dtype=int32, numpy=array([10,  7], dtype=int32)>)"
            ]
          },
          "metadata": {},
          "execution_count": 12
        }
      ]
    },
    {
      "cell_type": "code",
      "source": [
        "changeable_tensor[0].assign(7)\n",
        "changeable_tensor"
      ],
      "metadata": {
        "id": "Q3XMEk3Iwg7w",
        "colab": {
          "base_uri": "https://localhost:8080/"
        },
        "outputId": "5626a73f-a7ea-48ce-c4da-7e36beea2353"
      },
      "execution_count": null,
      "outputs": [
        {
          "output_type": "execute_result",
          "data": {
            "text/plain": [
              "<tf.Variable 'Variable:0' shape=(2,) dtype=int32, numpy=array([7, 7], dtype=int32)>"
            ]
          },
          "metadata": {},
          "execution_count": 13
        }
      ]
    },
    {
      "cell_type": "markdown",
      "source": [
        "# Random tensors"
      ],
      "metadata": {
        "id": "sSaLop80D8GT"
      }
    },
    {
      "cell_type": "code",
      "source": [
        "random_1 = tf.random.Generator.from_seed(42)\n",
        "random_1 = random_1.normal(shape=(3,2))\n",
        "random_1"
      ],
      "metadata": {
        "colab": {
          "base_uri": "https://localhost:8080/"
        },
        "id": "xzpfePA9D7G4",
        "outputId": "35db02b7-81be-40dc-b0c1-c09afcc3b58d"
      },
      "execution_count": null,
      "outputs": [
        {
          "output_type": "execute_result",
          "data": {
            "text/plain": [
              "<tf.Tensor: shape=(3, 2), dtype=float32, numpy=\n",
              "array([[-0.7565803 , -0.06854702],\n",
              "       [ 0.07595026, -1.2573844 ],\n",
              "       [-0.23193763, -1.8107855 ]], dtype=float32)>"
            ]
          },
          "metadata": {},
          "execution_count": 14
        }
      ]
    },
    {
      "cell_type": "markdown",
      "source": [
        "# Shuffle the number of elements"
      ],
      "metadata": {
        "id": "px3jQvCFD_35"
      }
    },
    {
      "cell_type": "code",
      "source": [
        "not_shuffled = tf.constant([[10, 7],\n",
        "                         [3, 4],\n",
        "                         [2, 5]])\n",
        "tf.random.set_seed(42)\n",
        "tf.random.shuffle(not_shuffled)\n",
        "# only shuffle in first dimension"
      ],
      "metadata": {
        "colab": {
          "base_uri": "https://localhost:8080/"
        },
        "id": "tn5MaCb-D-it",
        "outputId": "1093c8af-f12f-420b-fcd3-90b1fe41a141"
      },
      "execution_count": null,
      "outputs": [
        {
          "output_type": "execute_result",
          "data": {
            "text/plain": [
              "<tf.Tensor: shape=(3, 2), dtype=int32, numpy=\n",
              "array([[ 3,  4],\n",
              "       [ 2,  5],\n",
              "       [10,  7]], dtype=int32)>"
            ]
          },
          "metadata": {},
          "execution_count": 15
        }
      ]
    },
    {
      "cell_type": "code",
      "source": [
        "not_shuffled"
      ],
      "metadata": {
        "colab": {
          "base_uri": "https://localhost:8080/"
        },
        "id": "wLgaTgRHEBLm",
        "outputId": "5bfb5ffb-e7c4-4003-c8d9-17d30d08ebf9"
      },
      "execution_count": null,
      "outputs": [
        {
          "output_type": "execute_result",
          "data": {
            "text/plain": [
              "<tf.Tensor: shape=(3, 2), dtype=int32, numpy=\n",
              "array([[10,  7],\n",
              "       [ 3,  4],\n",
              "       [ 2,  5]], dtype=int32)>"
            ]
          },
          "metadata": {},
          "execution_count": 16
        }
      ]
    },
    {
      "cell_type": "code",
      "source": [
        "tf.ones([10,7])"
      ],
      "metadata": {
        "colab": {
          "base_uri": "https://localhost:8080/"
        },
        "id": "G91JiAaiEBz9",
        "outputId": "ba046b54-6001-44b1-e53f-b1f5ecee48bf"
      },
      "execution_count": null,
      "outputs": [
        {
          "output_type": "execute_result",
          "data": {
            "text/plain": [
              "<tf.Tensor: shape=(10, 7), dtype=float32, numpy=\n",
              "array([[1., 1., 1., 1., 1., 1., 1.],\n",
              "       [1., 1., 1., 1., 1., 1., 1.],\n",
              "       [1., 1., 1., 1., 1., 1., 1.],\n",
              "       [1., 1., 1., 1., 1., 1., 1.],\n",
              "       [1., 1., 1., 1., 1., 1., 1.],\n",
              "       [1., 1., 1., 1., 1., 1., 1.],\n",
              "       [1., 1., 1., 1., 1., 1., 1.],\n",
              "       [1., 1., 1., 1., 1., 1., 1.],\n",
              "       [1., 1., 1., 1., 1., 1., 1.],\n",
              "       [1., 1., 1., 1., 1., 1., 1.]], dtype=float32)>"
            ]
          },
          "metadata": {},
          "execution_count": 17
        }
      ]
    },
    {
      "cell_type": "code",
      "source": [
        "tf.zeros([7, 10])"
      ],
      "metadata": {
        "colab": {
          "base_uri": "https://localhost:8080/"
        },
        "id": "mtnxHmZZEC-2",
        "outputId": "55ea7649-241c-4a9c-f61d-4a5e7e25e897"
      },
      "execution_count": null,
      "outputs": [
        {
          "output_type": "execute_result",
          "data": {
            "text/plain": [
              "<tf.Tensor: shape=(7, 10), dtype=float32, numpy=\n",
              "array([[0., 0., 0., 0., 0., 0., 0., 0., 0., 0.],\n",
              "       [0., 0., 0., 0., 0., 0., 0., 0., 0., 0.],\n",
              "       [0., 0., 0., 0., 0., 0., 0., 0., 0., 0.],\n",
              "       [0., 0., 0., 0., 0., 0., 0., 0., 0., 0.],\n",
              "       [0., 0., 0., 0., 0., 0., 0., 0., 0., 0.],\n",
              "       [0., 0., 0., 0., 0., 0., 0., 0., 0., 0.],\n",
              "       [0., 0., 0., 0., 0., 0., 0., 0., 0., 0.]], dtype=float32)>"
            ]
          },
          "metadata": {},
          "execution_count": 18
        }
      ]
    },
    {
      "cell_type": "code",
      "source": [
        "import numpy as np\n",
        "numpy_A = np.arange(1, 25)\n",
        "numpy_A"
      ],
      "metadata": {
        "colab": {
          "base_uri": "https://localhost:8080/"
        },
        "id": "Ad_CuocJEEDV",
        "outputId": "9d51d830-2e0a-42d0-a0f8-a72851156783"
      },
      "execution_count": null,
      "outputs": [
        {
          "output_type": "execute_result",
          "data": {
            "text/plain": [
              "array([ 1,  2,  3,  4,  5,  6,  7,  8,  9, 10, 11, 12, 13, 14, 15, 16, 17,\n",
              "       18, 19, 20, 21, 22, 23, 24])"
            ]
          },
          "metadata": {},
          "execution_count": 19
        }
      ]
    },
    {
      "cell_type": "code",
      "source": [
        "A = tf.constant(numpy_A)\n",
        "B = tf.constant(numpy_A, shape=(2,3,4))\n",
        "A, B"
      ],
      "metadata": {
        "colab": {
          "base_uri": "https://localhost:8080/"
        },
        "id": "PrsWv218EE3N",
        "outputId": "0ac11235-bbe5-455d-8eb4-1e4c849a5d7d"
      },
      "execution_count": null,
      "outputs": [
        {
          "output_type": "execute_result",
          "data": {
            "text/plain": [
              "(<tf.Tensor: shape=(24,), dtype=int64, numpy=\n",
              " array([ 1,  2,  3,  4,  5,  6,  7,  8,  9, 10, 11, 12, 13, 14, 15, 16, 17,\n",
              "        18, 19, 20, 21, 22, 23, 24])>,\n",
              " <tf.Tensor: shape=(2, 3, 4), dtype=int64, numpy=\n",
              " array([[[ 1,  2,  3,  4],\n",
              "         [ 5,  6,  7,  8],\n",
              "         [ 9, 10, 11, 12]],\n",
              " \n",
              "        [[13, 14, 15, 16],\n",
              "         [17, 18, 19, 20],\n",
              "         [21, 22, 23, 24]]])>)"
            ]
          },
          "metadata": {},
          "execution_count": 20
        }
      ]
    },
    {
      "cell_type": "markdown",
      "source": [
        "# Getting informations from tensors\n",
        "\n",
        "* Shape\n",
        "* Rank\n",
        "* Axis or dimension\n",
        "* Size"
      ],
      "metadata": {
        "id": "BWUe10c_FV_e"
      }
    },
    {
      "cell_type": "code",
      "source": [
        "rank_4_tensor = tf.zeros(shape=[2,3,4,5])\n",
        "rank_4_tensor"
      ],
      "metadata": {
        "colab": {
          "base_uri": "https://localhost:8080/"
        },
        "id": "ZOOBCpdxEFtV",
        "outputId": "055a1c66-3fa6-48af-ec6c-c6cff008ad8d"
      },
      "execution_count": null,
      "outputs": [
        {
          "output_type": "execute_result",
          "data": {
            "text/plain": [
              "<tf.Tensor: shape=(2, 3, 4, 5), dtype=float32, numpy=\n",
              "array([[[[0., 0., 0., 0., 0.],\n",
              "         [0., 0., 0., 0., 0.],\n",
              "         [0., 0., 0., 0., 0.],\n",
              "         [0., 0., 0., 0., 0.]],\n",
              "\n",
              "        [[0., 0., 0., 0., 0.],\n",
              "         [0., 0., 0., 0., 0.],\n",
              "         [0., 0., 0., 0., 0.],\n",
              "         [0., 0., 0., 0., 0.]],\n",
              "\n",
              "        [[0., 0., 0., 0., 0.],\n",
              "         [0., 0., 0., 0., 0.],\n",
              "         [0., 0., 0., 0., 0.],\n",
              "         [0., 0., 0., 0., 0.]]],\n",
              "\n",
              "\n",
              "       [[[0., 0., 0., 0., 0.],\n",
              "         [0., 0., 0., 0., 0.],\n",
              "         [0., 0., 0., 0., 0.],\n",
              "         [0., 0., 0., 0., 0.]],\n",
              "\n",
              "        [[0., 0., 0., 0., 0.],\n",
              "         [0., 0., 0., 0., 0.],\n",
              "         [0., 0., 0., 0., 0.],\n",
              "         [0., 0., 0., 0., 0.]],\n",
              "\n",
              "        [[0., 0., 0., 0., 0.],\n",
              "         [0., 0., 0., 0., 0.],\n",
              "         [0., 0., 0., 0., 0.],\n",
              "         [0., 0., 0., 0., 0.]]]], dtype=float32)>"
            ]
          },
          "metadata": {},
          "execution_count": 21
        }
      ]
    },
    {
      "cell_type": "code",
      "source": [
        "rank_4_tensor[0]"
      ],
      "metadata": {
        "colab": {
          "base_uri": "https://localhost:8080/"
        },
        "id": "pl2GqFLIFfGn",
        "outputId": "76a1a71d-d6e2-40a2-dbf9-3e66e427c97a"
      },
      "execution_count": null,
      "outputs": [
        {
          "output_type": "execute_result",
          "data": {
            "text/plain": [
              "<tf.Tensor: shape=(3, 4, 5), dtype=float32, numpy=\n",
              "array([[[0., 0., 0., 0., 0.],\n",
              "        [0., 0., 0., 0., 0.],\n",
              "        [0., 0., 0., 0., 0.],\n",
              "        [0., 0., 0., 0., 0.]],\n",
              "\n",
              "       [[0., 0., 0., 0., 0.],\n",
              "        [0., 0., 0., 0., 0.],\n",
              "        [0., 0., 0., 0., 0.],\n",
              "        [0., 0., 0., 0., 0.]],\n",
              "\n",
              "       [[0., 0., 0., 0., 0.],\n",
              "        [0., 0., 0., 0., 0.],\n",
              "        [0., 0., 0., 0., 0.],\n",
              "        [0., 0., 0., 0., 0.]]], dtype=float32)>"
            ]
          },
          "metadata": {},
          "execution_count": 22
        }
      ]
    },
    {
      "cell_type": "code",
      "source": [
        "rank_4_tensor.shape, rank_4_tensor.ndim, tf.size(rank_4_tensor)"
      ],
      "metadata": {
        "colab": {
          "base_uri": "https://localhost:8080/"
        },
        "id": "alRXp1R-FrjK",
        "outputId": "ff063eca-50c5-4776-a160-68504fb08179"
      },
      "execution_count": null,
      "outputs": [
        {
          "output_type": "execute_result",
          "data": {
            "text/plain": [
              "(TensorShape([2, 3, 4, 5]), 4, <tf.Tensor: shape=(), dtype=int32, numpy=120>)"
            ]
          },
          "metadata": {},
          "execution_count": 23
        }
      ]
    },
    {
      "cell_type": "markdown",
      "source": [
        "# Indexing tensors"
      ],
      "metadata": {
        "id": "90MIgdQpHBQL"
      }
    },
    {
      "cell_type": "code",
      "source": [
        "rank_4_tensor[:2, :2, :2, :2]"
      ],
      "metadata": {
        "colab": {
          "base_uri": "https://localhost:8080/"
        },
        "id": "EIx51T0rFwOQ",
        "outputId": "ccbaeb24-9061-4816-e4c5-5da61b7c176b"
      },
      "execution_count": null,
      "outputs": [
        {
          "output_type": "execute_result",
          "data": {
            "text/plain": [
              "<tf.Tensor: shape=(2, 2, 2, 2), dtype=float32, numpy=\n",
              "array([[[[0., 0.],\n",
              "         [0., 0.]],\n",
              "\n",
              "        [[0., 0.],\n",
              "         [0., 0.]]],\n",
              "\n",
              "\n",
              "       [[[0., 0.],\n",
              "         [0., 0.]],\n",
              "\n",
              "        [[0., 0.],\n",
              "         [0., 0.]]]], dtype=float32)>"
            ]
          },
          "metadata": {},
          "execution_count": 24
        }
      ]
    },
    {
      "cell_type": "code",
      "source": [
        "rank_2_tensor = tf.constant([[10, 7],\n",
        "                             [3, 4]])\n",
        "rank_2_tensor.shape, rank_2_tensor.ndim"
      ],
      "metadata": {
        "colab": {
          "base_uri": "https://localhost:8080/"
        },
        "id": "wNKR8sA9HH8O",
        "outputId": "e9ff75ed-f201-48b4-965f-988291aa6306"
      },
      "execution_count": null,
      "outputs": [
        {
          "output_type": "execute_result",
          "data": {
            "text/plain": [
              "(TensorShape([2, 2]), 2)"
            ]
          },
          "metadata": {},
          "execution_count": 25
        }
      ]
    },
    {
      "cell_type": "code",
      "source": [
        "rank_2_tensor[:, -1]"
      ],
      "metadata": {
        "colab": {
          "base_uri": "https://localhost:8080/"
        },
        "id": "p9xHhPvpHuMt",
        "outputId": "3dcc09eb-0ebd-4522-f544-ffe83ae118e1"
      },
      "execution_count": null,
      "outputs": [
        {
          "output_type": "execute_result",
          "data": {
            "text/plain": [
              "<tf.Tensor: shape=(2,), dtype=int32, numpy=array([7, 4], dtype=int32)>"
            ]
          },
          "metadata": {},
          "execution_count": 26
        }
      ]
    },
    {
      "cell_type": "code",
      "source": [
        "rank_3_tensor = rank_2_tensor[..., tf.newaxis]\n",
        "rank_3_tensor"
      ],
      "metadata": {
        "colab": {
          "base_uri": "https://localhost:8080/"
        },
        "id": "jvMMrtVQH0PP",
        "outputId": "e41f97e0-95e1-44da-ba3b-64909d6ed57c"
      },
      "execution_count": null,
      "outputs": [
        {
          "output_type": "execute_result",
          "data": {
            "text/plain": [
              "<tf.Tensor: shape=(2, 2, 1), dtype=int32, numpy=\n",
              "array([[[10],\n",
              "        [ 7]],\n",
              "\n",
              "       [[ 3],\n",
              "        [ 4]]], dtype=int32)>"
            ]
          },
          "metadata": {},
          "execution_count": 27
        }
      ]
    },
    {
      "cell_type": "code",
      "source": [
        "tf.expand_dims(rank_2_tensor, axis=0)"
      ],
      "metadata": {
        "colab": {
          "base_uri": "https://localhost:8080/"
        },
        "id": "7MikLX1gH5O2",
        "outputId": "b7c58fe6-a565-455f-8cd5-c165d9e5fa68"
      },
      "execution_count": null,
      "outputs": [
        {
          "output_type": "execute_result",
          "data": {
            "text/plain": [
              "<tf.Tensor: shape=(1, 2, 2), dtype=int32, numpy=\n",
              "array([[[10,  7],\n",
              "        [ 3,  4]]], dtype=int32)>"
            ]
          },
          "metadata": {},
          "execution_count": 33
        }
      ]
    },
    {
      "cell_type": "markdown",
      "source": [
        "# Manipulating tensors\n",
        "\n",
        "## Basic operations (+,-,*,/)"
      ],
      "metadata": {
        "id": "RTzk25bYMWU5"
      }
    },
    {
      "cell_type": "code",
      "source": [
        "tensor = tf.constant([[10, 7], [3, 4]])\n",
        "tensor + 10"
      ],
      "metadata": {
        "colab": {
          "base_uri": "https://localhost:8080/"
        },
        "id": "CddVXfbzIPZ0",
        "outputId": "d2bc12c2-39d6-4573-d822-e39965676019"
      },
      "execution_count": null,
      "outputs": [
        {
          "output_type": "execute_result",
          "data": {
            "text/plain": [
              "<tf.Tensor: shape=(2, 2), dtype=int32, numpy=\n",
              "array([[20, 17],\n",
              "       [13, 14]], dtype=int32)>"
            ]
          },
          "metadata": {},
          "execution_count": 34
        }
      ]
    },
    {
      "cell_type": "code",
      "source": [
        "tensor"
      ],
      "metadata": {
        "colab": {
          "base_uri": "https://localhost:8080/"
        },
        "id": "zA37UBZzMcMx",
        "outputId": "9cdda302-7e24-4658-90c3-cf6f6842c044"
      },
      "execution_count": null,
      "outputs": [
        {
          "output_type": "execute_result",
          "data": {
            "text/plain": [
              "<tf.Tensor: shape=(2, 2), dtype=int32, numpy=\n",
              "array([[10,  7],\n",
              "       [ 3,  4]], dtype=int32)>"
            ]
          },
          "metadata": {},
          "execution_count": 35
        }
      ]
    },
    {
      "cell_type": "code",
      "source": [
        "tf.multiply(tensor, 10)"
      ],
      "metadata": {
        "colab": {
          "base_uri": "https://localhost:8080/"
        },
        "id": "MCxoJPisM87E",
        "outputId": "0a8a9f60-77ec-49b2-bed0-63f2ed72bae6"
      },
      "execution_count": null,
      "outputs": [
        {
          "output_type": "execute_result",
          "data": {
            "text/plain": [
              "<tf.Tensor: shape=(2, 2), dtype=int32, numpy=\n",
              "array([[100,  70],\n",
              "       [ 30,  40]], dtype=int32)>"
            ]
          },
          "metadata": {},
          "execution_count": 36
        }
      ]
    },
    {
      "cell_type": "markdown",
      "source": [
        "# Matrix multiplication"
      ],
      "metadata": {
        "id": "gTCboFYSN4AF"
      }
    },
    {
      "cell_type": "code",
      "source": [
        "tf.matmul(tensor, tensor)"
      ],
      "metadata": {
        "colab": {
          "base_uri": "https://localhost:8080/"
        },
        "id": "eMNkl4VeND8V",
        "outputId": "21c0cff7-616c-403f-ae66-62f822d2610e"
      },
      "execution_count": null,
      "outputs": [
        {
          "output_type": "execute_result",
          "data": {
            "text/plain": [
              "<tf.Tensor: shape=(2, 2), dtype=int32, numpy=\n",
              "array([[121,  98],\n",
              "       [ 42,  37]], dtype=int32)>"
            ]
          },
          "metadata": {},
          "execution_count": 37
        }
      ]
    },
    {
      "cell_type": "code",
      "source": [
        "tensor * tensor"
      ],
      "metadata": {
        "colab": {
          "base_uri": "https://localhost:8080/"
        },
        "id": "FkpcarBUN9sS",
        "outputId": "357e7ce5-ba63-4323-81c8-69f431117e32"
      },
      "execution_count": null,
      "outputs": [
        {
          "output_type": "execute_result",
          "data": {
            "text/plain": [
              "<tf.Tensor: shape=(2, 2), dtype=int32, numpy=\n",
              "array([[100,  49],\n",
              "       [  9,  16]], dtype=int32)>"
            ]
          },
          "metadata": {},
          "execution_count": 38
        }
      ]
    },
    {
      "cell_type": "code",
      "source": [
        "# in python @ is the operation of matrix multiplication\n",
        "tensor @ tensor"
      ],
      "metadata": {
        "colab": {
          "base_uri": "https://localhost:8080/"
        },
        "id": "g0IwPuDrN-uD",
        "outputId": "96dbf461-3ef3-47a6-a422-aa6382ae3494"
      },
      "execution_count": null,
      "outputs": [
        {
          "output_type": "execute_result",
          "data": {
            "text/plain": [
              "<tf.Tensor: shape=(2, 2), dtype=int32, numpy=\n",
              "array([[121,  98],\n",
              "       [ 42,  37]], dtype=int32)>"
            ]
          },
          "metadata": {},
          "execution_count": 39
        }
      ]
    },
    {
      "cell_type": "code",
      "source": [
        "matrix_1 = tf.constant([[1, 2],\n",
        "                     [3, 4],\n",
        "                     [5, 6]])\n",
        "matrix_2 = tf.constant([[7, 8],\n",
        "                     [9, 10],\n",
        "                     [11, 12]])\n",
        "tf.matmul(matrix_1, matrix_2)\n",
        "# should be fail (refer to linear alegebra tutorial about matrix multiplication)"
      ],
      "metadata": {
        "colab": {
          "base_uri": "https://localhost:8080/",
          "height": 339
        },
        "id": "oxnDduNJOAJC",
        "outputId": "05272dc9-a8ef-4f89-c661-59a5e83f29c4"
      },
      "execution_count": null,
      "outputs": [
        {
          "output_type": "error",
          "ename": "InvalidArgumentError",
          "evalue": "{{function_node __wrapped__MatMul_device_/job:localhost/replica:0/task:0/device:CPU:0}} Matrix size-incompatible: In[0]: [3,2], In[1]: [3,2] [Op:MatMul] name: ",
          "traceback": [
            "\u001b[0;31m---------------------------------------------------------------------------\u001b[0m",
            "\u001b[0;31mInvalidArgumentError\u001b[0m                      Traceback (most recent call last)",
            "\u001b[0;32m<ipython-input-41-49b5347a506d>\u001b[0m in \u001b[0;36m<cell line: 7>\u001b[0;34m()\u001b[0m\n\u001b[1;32m      5\u001b[0m                      \u001b[0;34m[\u001b[0m\u001b[0;36m9\u001b[0m\u001b[0;34m,\u001b[0m \u001b[0;36m10\u001b[0m\u001b[0;34m]\u001b[0m\u001b[0;34m,\u001b[0m\u001b[0;34m\u001b[0m\u001b[0;34m\u001b[0m\u001b[0m\n\u001b[1;32m      6\u001b[0m                      [11, 12]])\n\u001b[0;32m----> 7\u001b[0;31m \u001b[0mtf\u001b[0m\u001b[0;34m.\u001b[0m\u001b[0mmatmul\u001b[0m\u001b[0;34m(\u001b[0m\u001b[0mmatrix_1\u001b[0m\u001b[0;34m,\u001b[0m \u001b[0mmatrix_2\u001b[0m\u001b[0;34m)\u001b[0m\u001b[0;34m\u001b[0m\u001b[0;34m\u001b[0m\u001b[0m\n\u001b[0m\u001b[1;32m      8\u001b[0m \u001b[0;31m# should be fail (refer to linear alegebra tutorial about matrix multiplication)\u001b[0m\u001b[0;34m\u001b[0m\u001b[0;34m\u001b[0m\u001b[0m\n",
            "\u001b[0;32m/usr/local/lib/python3.10/dist-packages/tensorflow/python/ops/weak_tensor_ops.py\u001b[0m in \u001b[0;36mwrapper\u001b[0;34m(*args, **kwargs)\u001b[0m\n\u001b[1;32m    140\u001b[0m   \u001b[0;32mdef\u001b[0m \u001b[0mwrapper\u001b[0m\u001b[0;34m(\u001b[0m\u001b[0;34m*\u001b[0m\u001b[0margs\u001b[0m\u001b[0;34m,\u001b[0m \u001b[0;34m**\u001b[0m\u001b[0mkwargs\u001b[0m\u001b[0;34m)\u001b[0m\u001b[0;34m:\u001b[0m\u001b[0;34m\u001b[0m\u001b[0;34m\u001b[0m\u001b[0m\n\u001b[1;32m    141\u001b[0m     \u001b[0;32mif\u001b[0m \u001b[0;32mnot\u001b[0m \u001b[0mops\u001b[0m\u001b[0;34m.\u001b[0m\u001b[0mis_auto_dtype_conversion_enabled\u001b[0m\u001b[0;34m(\u001b[0m\u001b[0;34m)\u001b[0m\u001b[0;34m:\u001b[0m\u001b[0;34m\u001b[0m\u001b[0;34m\u001b[0m\u001b[0m\n\u001b[0;32m--> 142\u001b[0;31m       \u001b[0;32mreturn\u001b[0m \u001b[0mop\u001b[0m\u001b[0;34m(\u001b[0m\u001b[0;34m*\u001b[0m\u001b[0margs\u001b[0m\u001b[0;34m,\u001b[0m \u001b[0;34m**\u001b[0m\u001b[0mkwargs\u001b[0m\u001b[0;34m)\u001b[0m\u001b[0;34m\u001b[0m\u001b[0;34m\u001b[0m\u001b[0m\n\u001b[0m\u001b[1;32m    143\u001b[0m     \u001b[0mbound_arguments\u001b[0m \u001b[0;34m=\u001b[0m \u001b[0msignature\u001b[0m\u001b[0;34m.\u001b[0m\u001b[0mbind\u001b[0m\u001b[0;34m(\u001b[0m\u001b[0;34m*\u001b[0m\u001b[0margs\u001b[0m\u001b[0;34m,\u001b[0m \u001b[0;34m**\u001b[0m\u001b[0mkwargs\u001b[0m\u001b[0;34m)\u001b[0m\u001b[0;34m\u001b[0m\u001b[0;34m\u001b[0m\u001b[0m\n\u001b[1;32m    144\u001b[0m     \u001b[0mbound_arguments\u001b[0m\u001b[0;34m.\u001b[0m\u001b[0mapply_defaults\u001b[0m\u001b[0;34m(\u001b[0m\u001b[0;34m)\u001b[0m\u001b[0;34m\u001b[0m\u001b[0;34m\u001b[0m\u001b[0m\n",
            "\u001b[0;32m/usr/local/lib/python3.10/dist-packages/tensorflow/python/util/traceback_utils.py\u001b[0m in \u001b[0;36merror_handler\u001b[0;34m(*args, **kwargs)\u001b[0m\n\u001b[1;32m    151\u001b[0m     \u001b[0;32mexcept\u001b[0m \u001b[0mException\u001b[0m \u001b[0;32mas\u001b[0m \u001b[0me\u001b[0m\u001b[0;34m:\u001b[0m\u001b[0;34m\u001b[0m\u001b[0;34m\u001b[0m\u001b[0m\n\u001b[1;32m    152\u001b[0m       \u001b[0mfiltered_tb\u001b[0m \u001b[0;34m=\u001b[0m \u001b[0m_process_traceback_frames\u001b[0m\u001b[0;34m(\u001b[0m\u001b[0me\u001b[0m\u001b[0;34m.\u001b[0m\u001b[0m__traceback__\u001b[0m\u001b[0;34m)\u001b[0m\u001b[0;34m\u001b[0m\u001b[0;34m\u001b[0m\u001b[0m\n\u001b[0;32m--> 153\u001b[0;31m       \u001b[0;32mraise\u001b[0m \u001b[0me\u001b[0m\u001b[0;34m.\u001b[0m\u001b[0mwith_traceback\u001b[0m\u001b[0;34m(\u001b[0m\u001b[0mfiltered_tb\u001b[0m\u001b[0;34m)\u001b[0m \u001b[0;32mfrom\u001b[0m \u001b[0;32mNone\u001b[0m\u001b[0;34m\u001b[0m\u001b[0;34m\u001b[0m\u001b[0m\n\u001b[0m\u001b[1;32m    154\u001b[0m     \u001b[0;32mfinally\u001b[0m\u001b[0;34m:\u001b[0m\u001b[0;34m\u001b[0m\u001b[0;34m\u001b[0m\u001b[0m\n\u001b[1;32m    155\u001b[0m       \u001b[0;32mdel\u001b[0m \u001b[0mfiltered_tb\u001b[0m\u001b[0;34m\u001b[0m\u001b[0;34m\u001b[0m\u001b[0m\n",
            "\u001b[0;32m/usr/local/lib/python3.10/dist-packages/tensorflow/python/framework/ops.py\u001b[0m in \u001b[0;36mraise_from_not_ok_status\u001b[0;34m(e, name)\u001b[0m\n\u001b[1;32m   5981\u001b[0m \u001b[0;32mdef\u001b[0m \u001b[0mraise_from_not_ok_status\u001b[0m\u001b[0;34m(\u001b[0m\u001b[0me\u001b[0m\u001b[0;34m,\u001b[0m \u001b[0mname\u001b[0m\u001b[0;34m)\u001b[0m \u001b[0;34m->\u001b[0m \u001b[0mNoReturn\u001b[0m\u001b[0;34m:\u001b[0m\u001b[0;34m\u001b[0m\u001b[0;34m\u001b[0m\u001b[0m\n\u001b[1;32m   5982\u001b[0m   \u001b[0me\u001b[0m\u001b[0;34m.\u001b[0m\u001b[0mmessage\u001b[0m \u001b[0;34m+=\u001b[0m \u001b[0;34m(\u001b[0m\u001b[0;34m\" name: \"\u001b[0m \u001b[0;34m+\u001b[0m \u001b[0mstr\u001b[0m\u001b[0;34m(\u001b[0m\u001b[0mname\u001b[0m \u001b[0;32mif\u001b[0m \u001b[0mname\u001b[0m \u001b[0;32mis\u001b[0m \u001b[0;32mnot\u001b[0m \u001b[0;32mNone\u001b[0m \u001b[0;32melse\u001b[0m \u001b[0;34m\"\"\u001b[0m\u001b[0;34m)\u001b[0m\u001b[0;34m)\u001b[0m\u001b[0;34m\u001b[0m\u001b[0;34m\u001b[0m\u001b[0m\n\u001b[0;32m-> 5983\u001b[0;31m   \u001b[0;32mraise\u001b[0m \u001b[0mcore\u001b[0m\u001b[0;34m.\u001b[0m\u001b[0m_status_to_exception\u001b[0m\u001b[0;34m(\u001b[0m\u001b[0me\u001b[0m\u001b[0;34m)\u001b[0m \u001b[0;32mfrom\u001b[0m \u001b[0;32mNone\u001b[0m  \u001b[0;31m# pylint: disable=protected-access\u001b[0m\u001b[0;34m\u001b[0m\u001b[0;34m\u001b[0m\u001b[0m\n\u001b[0m\u001b[1;32m   5984\u001b[0m \u001b[0;34m\u001b[0m\u001b[0m\n\u001b[1;32m   5985\u001b[0m \u001b[0;34m\u001b[0m\u001b[0m\n",
            "\u001b[0;31mInvalidArgumentError\u001b[0m: {{function_node __wrapped__MatMul_device_/job:localhost/replica:0/task:0/device:CPU:0}} Matrix size-incompatible: In[0]: [3,2], In[1]: [3,2] [Op:MatMul] name: "
          ]
        }
      ]
    },
    {
      "cell_type": "code",
      "source": [
        "tf.matmul(matrix_1, tf.transpose(matrix_2))"
      ],
      "metadata": {
        "colab": {
          "base_uri": "https://localhost:8080/"
        },
        "id": "tW9H1QvFOaod",
        "outputId": "d10a776b-57f2-4166-8503-a20cb9a90a26"
      },
      "execution_count": null,
      "outputs": [
        {
          "output_type": "execute_result",
          "data": {
            "text/plain": [
              "<tf.Tensor: shape=(3, 3), dtype=int32, numpy=\n",
              "array([[ 23,  29,  35],\n",
              "       [ 53,  67,  81],\n",
              "       [ 83, 105, 127]], dtype=int32)>"
            ]
          },
          "metadata": {},
          "execution_count": 44
        }
      ]
    },
    {
      "cell_type": "code",
      "source": [
        "matrix_1, tf.transpose(matrix_2)"
      ],
      "metadata": {
        "colab": {
          "base_uri": "https://localhost:8080/"
        },
        "id": "Bun6hB9wO9KJ",
        "outputId": "b9213008-fa08-4f86-dd7d-a9038293cc2f"
      },
      "execution_count": null,
      "outputs": [
        {
          "output_type": "execute_result",
          "data": {
            "text/plain": [
              "(<tf.Tensor: shape=(3, 2), dtype=int32, numpy=\n",
              " array([[1, 2],\n",
              "        [3, 4],\n",
              "        [5, 6]], dtype=int32)>,\n",
              " <tf.Tensor: shape=(2, 3), dtype=int32, numpy=\n",
              " array([[ 7,  9, 11],\n",
              "        [ 8, 10, 12]], dtype=int32)>)"
            ]
          },
          "metadata": {},
          "execution_count": 45
        }
      ]
    },
    {
      "cell_type": "code",
      "source": [
        "matrix_1 @ tf.reshape(matrix_2, shape=(2, 3))"
      ],
      "metadata": {
        "colab": {
          "base_uri": "https://localhost:8080/"
        },
        "id": "g0i7eorJOkX2",
        "outputId": "8e5863f2-8ea8-4198-bd19-352a9ef9d118"
      },
      "execution_count": null,
      "outputs": [
        {
          "output_type": "execute_result",
          "data": {
            "text/plain": [
              "<tf.Tensor: shape=(3, 3), dtype=int32, numpy=\n",
              "array([[ 27,  30,  33],\n",
              "       [ 61,  68,  75],\n",
              "       [ 95, 106, 117]], dtype=int32)>"
            ]
          },
          "metadata": {},
          "execution_count": 43
        }
      ]
    },
    {
      "cell_type": "code",
      "source": [
        "tf.reshape(matrix_2, shape=(2, 3))"
      ],
      "metadata": {
        "colab": {
          "base_uri": "https://localhost:8080/"
        },
        "id": "pdyADiz3O2wQ",
        "outputId": "32075adc-556b-4bde-d115-b483a61cc79a"
      },
      "execution_count": null,
      "outputs": [
        {
          "output_type": "execute_result",
          "data": {
            "text/plain": [
              "<tf.Tensor: shape=(2, 3), dtype=int32, numpy=\n",
              "array([[ 7,  8,  9],\n",
              "       [10, 11, 12]], dtype=int32)>"
            ]
          },
          "metadata": {},
          "execution_count": 46
        }
      ]
    },
    {
      "cell_type": "markdown",
      "source": [
        "# Changing tensor's datatype"
      ],
      "metadata": {
        "id": "sZZ_kDSqY8-Y"
      }
    },
    {
      "cell_type": "code",
      "source": [
        "B = tf.constant([1.999, 7.4])\n",
        "B.dtype"
      ],
      "metadata": {
        "id": "NUwDj40kQKK6",
        "colab": {
          "base_uri": "https://localhost:8080/"
        },
        "outputId": "e3eee97f-dbe1-469c-c7b9-3ef34bd5b1d5"
      },
      "execution_count": null,
      "outputs": [
        {
          "output_type": "execute_result",
          "data": {
            "text/plain": [
              "tf.float32"
            ]
          },
          "metadata": {},
          "execution_count": 56
        }
      ]
    },
    {
      "cell_type": "code",
      "source": [
        "C = tf.constant([7, 10])\n",
        "C.dtype"
      ],
      "metadata": {
        "colab": {
          "base_uri": "https://localhost:8080/"
        },
        "id": "mkdUQUr-ZB_5",
        "outputId": "855483b1-21e1-410e-f36d-6e8ebc756d82"
      },
      "execution_count": null,
      "outputs": [
        {
          "output_type": "execute_result",
          "data": {
            "text/plain": [
              "tf.int32"
            ]
          },
          "metadata": {},
          "execution_count": 57
        }
      ]
    },
    {
      "cell_type": "code",
      "source": [
        "D = tf.cast(B, dtype=tf.int32)\n",
        "D"
      ],
      "metadata": {
        "colab": {
          "base_uri": "https://localhost:8080/"
        },
        "id": "JLb4oEGrZFfR",
        "outputId": "6c4f0ed0-9287-424f-e272-8a9ac1ee668b"
      },
      "execution_count": null,
      "outputs": [
        {
          "output_type": "execute_result",
          "data": {
            "text/plain": [
              "<tf.Tensor: shape=(2,), dtype=int32, numpy=array([1, 7], dtype=int32)>"
            ]
          },
          "metadata": {},
          "execution_count": 58
        }
      ]
    },
    {
      "cell_type": "markdown",
      "source": [
        "# Aggregating tensors"
      ],
      "metadata": {
        "id": "YdKW5ryVbH1Y"
      }
    },
    {
      "cell_type": "code",
      "source": [
        "D = tf.constant([-7, -10])\n",
        "D"
      ],
      "metadata": {
        "colab": {
          "base_uri": "https://localhost:8080/"
        },
        "id": "Ky4HVFATZdZ0",
        "outputId": "7d6b6b33-f9a1-4964-ee89-6306ba6f3ffa"
      },
      "execution_count": null,
      "outputs": [
        {
          "output_type": "execute_result",
          "data": {
            "text/plain": [
              "<tf.Tensor: shape=(2,), dtype=int32, numpy=array([ -7, -10], dtype=int32)>"
            ]
          },
          "metadata": {},
          "execution_count": 59
        }
      ]
    },
    {
      "cell_type": "code",
      "source": [
        "tf.abs(D)"
      ],
      "metadata": {
        "colab": {
          "base_uri": "https://localhost:8080/"
        },
        "id": "4co2bHTJbMnd",
        "outputId": "1729f6ab-d5e6-4050-bbd5-b9d1327a4bdd"
      },
      "execution_count": null,
      "outputs": [
        {
          "output_type": "execute_result",
          "data": {
            "text/plain": [
              "<tf.Tensor: shape=(2,), dtype=int32, numpy=array([ 7, 10], dtype=int32)>"
            ]
          },
          "metadata": {},
          "execution_count": 60
        }
      ]
    },
    {
      "cell_type": "code",
      "source": [
        "E = tf.constant(np.random.randint(0, 100, size=50))\n",
        "E"
      ],
      "metadata": {
        "colab": {
          "base_uri": "https://localhost:8080/"
        },
        "id": "DLNIe2GPbNid",
        "outputId": "1bc67473-d017-41ad-c7fa-a5cced96ed82"
      },
      "execution_count": null,
      "outputs": [
        {
          "output_type": "execute_result",
          "data": {
            "text/plain": [
              "<tf.Tensor: shape=(50,), dtype=int64, numpy=\n",
              "array([25, 65, 89, 31, 32, 78, 12, 80, 22, 11, 59, 33, 70, 81, 70, 98, 50,\n",
              "       35, 27, 22, 39, 67,  6, 68, 64, 96, 38, 81,  3, 40, 15, 82, 31, 18,\n",
              "       47, 22, 63, 85, 80, 30,  6, 53, 56, 96, 60, 36, 97, 31,  3, 90])>"
            ]
          },
          "metadata": {},
          "execution_count": 62
        }
      ]
    },
    {
      "cell_type": "code",
      "source": [
        "tf.reduce_min(E), tf.reduce_max(E), tf.reduce_mean(E), tf.reduce_sum(E)"
      ],
      "metadata": {
        "colab": {
          "base_uri": "https://localhost:8080/"
        },
        "id": "r7wnbwXvbvgV",
        "outputId": "9fed7921-ab91-4439-d532-fcaf23be39b2"
      },
      "execution_count": null,
      "outputs": [
        {
          "output_type": "execute_result",
          "data": {
            "text/plain": [
              "(<tf.Tensor: shape=(), dtype=int64, numpy=3>,\n",
              " <tf.Tensor: shape=(), dtype=int64, numpy=98>,\n",
              " <tf.Tensor: shape=(), dtype=int64, numpy=49>,\n",
              " <tf.Tensor: shape=(), dtype=int64, numpy=2493>)"
            ]
          },
          "metadata": {},
          "execution_count": 63
        }
      ]
    },
    {
      "cell_type": "code",
      "source": [
        "tf.math.reduce_std(tf.cast(E, dtype='float32'))"
      ],
      "metadata": {
        "colab": {
          "base_uri": "https://localhost:8080/"
        },
        "id": "CiBtw0fnfxC5",
        "outputId": "cce85d84-44d7-44d1-e0a0-835dd75d87eb"
      },
      "execution_count": null,
      "outputs": [
        {
          "output_type": "execute_result",
          "data": {
            "text/plain": [
              "<tf.Tensor: shape=(), dtype=float32, numpy=28.548212>"
            ]
          },
          "metadata": {},
          "execution_count": 67
        }
      ]
    },
    {
      "cell_type": "code",
      "source": [
        "tf.math.reduce_variance(tf.cast(E, dtype='float32'))"
      ],
      "metadata": {
        "colab": {
          "base_uri": "https://localhost:8080/"
        },
        "id": "CAeX051Pf2ZC",
        "outputId": "0770f345-24b0-4493-b452-4a789fc632bf"
      },
      "execution_count": null,
      "outputs": [
        {
          "output_type": "execute_result",
          "data": {
            "text/plain": [
              "<tf.Tensor: shape=(), dtype=float32, numpy=815.00037>"
            ]
          },
          "metadata": {},
          "execution_count": 68
        }
      ]
    },
    {
      "cell_type": "code",
      "source": [
        "import tensorflow_probability as tfp\n",
        "tfp.stats.variance(E)"
      ],
      "metadata": {
        "colab": {
          "base_uri": "https://localhost:8080/"
        },
        "id": "LL1ENgABiVUU",
        "outputId": "bb484b28-3109-42b5-9aab-9020c227a081"
      },
      "execution_count": null,
      "outputs": [
        {
          "output_type": "execute_result",
          "data": {
            "text/plain": [
              "<tf.Tensor: shape=(), dtype=int64, numpy=815>"
            ]
          },
          "metadata": {},
          "execution_count": 69
        }
      ]
    },
    {
      "cell_type": "code",
      "source": [
        "tf.random.set_seed(42)\n",
        "F = tf.random.uniform(shape=[50])\n",
        "F"
      ],
      "metadata": {
        "colab": {
          "base_uri": "https://localhost:8080/"
        },
        "id": "8mIWxFwMiZAU",
        "outputId": "dc5eb23e-0f6d-439f-aa5e-e27c815edb7a"
      },
      "execution_count": null,
      "outputs": [
        {
          "output_type": "execute_result",
          "data": {
            "text/plain": [
              "<tf.Tensor: shape=(50,), dtype=float32, numpy=\n",
              "array([0.6645621 , 0.44100678, 0.3528825 , 0.46448255, 0.03366041,\n",
              "       0.68467236, 0.74011743, 0.8724445 , 0.22632635, 0.22319686,\n",
              "       0.3103881 , 0.7223358 , 0.13318717, 0.5480639 , 0.5746088 ,\n",
              "       0.8996835 , 0.00946367, 0.5212307 , 0.6345445 , 0.1993283 ,\n",
              "       0.72942245, 0.54583454, 0.10756552, 0.6767061 , 0.6602763 ,\n",
              "       0.33695042, 0.60141766, 0.21062577, 0.8527372 , 0.44062173,\n",
              "       0.9485276 , 0.23752594, 0.81179297, 0.5263394 , 0.494308  ,\n",
              "       0.21612847, 0.8457197 , 0.8718841 , 0.3083862 , 0.6868038 ,\n",
              "       0.23764038, 0.7817228 , 0.9671384 , 0.06870162, 0.79873943,\n",
              "       0.66028714, 0.5871513 , 0.16461694, 0.7381023 , 0.32054043],\n",
              "      dtype=float32)>"
            ]
          },
          "metadata": {},
          "execution_count": 72
        }
      ]
    },
    {
      "cell_type": "code",
      "source": [
        "tf.argmax(F), tf.argmin(F)"
      ],
      "metadata": {
        "colab": {
          "base_uri": "https://localhost:8080/"
        },
        "id": "Hqc9Vj9riv3n",
        "outputId": "fbaa9d39-3810-44dd-fce9-ab9c1221e82e"
      },
      "execution_count": null,
      "outputs": [
        {
          "output_type": "execute_result",
          "data": {
            "text/plain": [
              "(<tf.Tensor: shape=(), dtype=int64, numpy=42>,\n",
              " <tf.Tensor: shape=(), dtype=int64, numpy=16>)"
            ]
          },
          "metadata": {},
          "execution_count": 77
        }
      ]
    },
    {
      "cell_type": "code",
      "source": [
        "F[tf.argmax(F)], F[tf.argmin(F)]"
      ],
      "metadata": {
        "colab": {
          "base_uri": "https://localhost:8080/"
        },
        "id": "rfVA5t7-i0Xw",
        "outputId": "d5ba3f9f-5f49-4a76-9d80-eb31a9fcc233"
      },
      "execution_count": null,
      "outputs": [
        {
          "output_type": "execute_result",
          "data": {
            "text/plain": [
              "(<tf.Tensor: shape=(), dtype=float32, numpy=0.9671384>,\n",
              " <tf.Tensor: shape=(), dtype=float32, numpy=0.009463668>)"
            ]
          },
          "metadata": {},
          "execution_count": 78
        }
      ]
    },
    {
      "cell_type": "code",
      "source": [
        "tf.reduce_max(F), tf.reduce_min(F)"
      ],
      "metadata": {
        "colab": {
          "base_uri": "https://localhost:8080/"
        },
        "id": "Y5tJX4Jbi6wJ",
        "outputId": "64b2ce6c-332d-41d9-e70b-15f6438fa325"
      },
      "execution_count": null,
      "outputs": [
        {
          "output_type": "execute_result",
          "data": {
            "text/plain": [
              "(<tf.Tensor: shape=(), dtype=float32, numpy=0.9671384>,\n",
              " <tf.Tensor: shape=(), dtype=float32, numpy=0.009463668>)"
            ]
          },
          "metadata": {},
          "execution_count": 79
        }
      ]
    },
    {
      "cell_type": "markdown",
      "source": [
        "# Squeezing tensors"
      ],
      "metadata": {
        "id": "siVd7Bo7kgr0"
      }
    },
    {
      "cell_type": "code",
      "source": [
        "tf.random.set_seed(42)\n",
        "G = tf.constant(tf.random.uniform(shape=[50]), shape=(1, 1, 1, 2, 25))\n",
        "G, G.shape"
      ],
      "metadata": {
        "colab": {
          "base_uri": "https://localhost:8080/"
        },
        "id": "Mtv94zGJi864",
        "outputId": "82c464df-b326-4742-e680-94f86a0e0d6d"
      },
      "execution_count": null,
      "outputs": [
        {
          "output_type": "execute_result",
          "data": {
            "text/plain": [
              "(<tf.Tensor: shape=(1, 1, 1, 2, 25), dtype=float32, numpy=\n",
              " array([[[[[0.6645621 , 0.44100678, 0.3528825 , 0.46448255, 0.03366041,\n",
              "            0.68467236, 0.74011743, 0.8724445 , 0.22632635, 0.22319686,\n",
              "            0.3103881 , 0.7223358 , 0.13318717, 0.5480639 , 0.5746088 ,\n",
              "            0.8996835 , 0.00946367, 0.5212307 , 0.6345445 , 0.1993283 ,\n",
              "            0.72942245, 0.54583454, 0.10756552, 0.6767061 , 0.6602763 ],\n",
              "           [0.33695042, 0.60141766, 0.21062577, 0.8527372 , 0.44062173,\n",
              "            0.9485276 , 0.23752594, 0.81179297, 0.5263394 , 0.494308  ,\n",
              "            0.21612847, 0.8457197 , 0.8718841 , 0.3083862 , 0.6868038 ,\n",
              "            0.23764038, 0.7817228 , 0.9671384 , 0.06870162, 0.79873943,\n",
              "            0.66028714, 0.5871513 , 0.16461694, 0.7381023 , 0.32054043]]]]],\n",
              "       dtype=float32)>,\n",
              " TensorShape([1, 1, 1, 2, 25]))"
            ]
          },
          "metadata": {},
          "execution_count": 87
        }
      ]
    },
    {
      "cell_type": "code",
      "source": [
        "# squeeze removes dimensions of size 1\n",
        "G_squeezed = tf.squeeze(G)"
      ],
      "metadata": {
        "id": "t4ypJMLzkpTe"
      },
      "execution_count": null,
      "outputs": []
    },
    {
      "cell_type": "code",
      "source": [
        "G_squeezed.shape"
      ],
      "metadata": {
        "colab": {
          "base_uri": "https://localhost:8080/"
        },
        "id": "Edirt91qk9J6",
        "outputId": "fc804604-8611-448e-ec12-e2fab8e64a87"
      },
      "execution_count": null,
      "outputs": [
        {
          "output_type": "execute_result",
          "data": {
            "text/plain": [
              "TensorShape([2, 25])"
            ]
          },
          "metadata": {},
          "execution_count": 86
        }
      ]
    },
    {
      "cell_type": "markdown",
      "source": [
        "# One Hot"
      ],
      "metadata": {
        "id": "pAxNVZWvlfKR"
      }
    },
    {
      "cell_type": "code",
      "source": [
        "some_list = [0, 1,2,3]\n",
        "tf.one_hot(some_list, depth=4)"
      ],
      "metadata": {
        "colab": {
          "base_uri": "https://localhost:8080/"
        },
        "id": "6yv9yWgJlLJs",
        "outputId": "53fe0ddf-dfc0-4f27-e0a6-674aa9773ded"
      },
      "execution_count": null,
      "outputs": [
        {
          "output_type": "execute_result",
          "data": {
            "text/plain": [
              "<tf.Tensor: shape=(4, 4), dtype=float32, numpy=\n",
              "array([[1., 0., 0., 0.],\n",
              "       [0., 1., 0., 0.],\n",
              "       [0., 0., 1., 0.],\n",
              "       [0., 0., 0., 1.]], dtype=float32)>"
            ]
          },
          "metadata": {},
          "execution_count": 90
        }
      ]
    },
    {
      "cell_type": "code",
      "source": [
        "tf.one_hot(some_list, depth=4, on_value=\"nyala\", off_value=\"mati\")"
      ],
      "metadata": {
        "colab": {
          "base_uri": "https://localhost:8080/"
        },
        "id": "ggOx-FWpllTu",
        "outputId": "b1bc7446-7fe0-4a3c-a005-1d84d82539e7"
      },
      "execution_count": null,
      "outputs": [
        {
          "output_type": "execute_result",
          "data": {
            "text/plain": [
              "<tf.Tensor: shape=(4, 4), dtype=string, numpy=\n",
              "array([[b'nyala', b'mati', b'mati', b'mati'],\n",
              "       [b'mati', b'nyala', b'mati', b'mati'],\n",
              "       [b'mati', b'mati', b'nyala', b'mati'],\n",
              "       [b'mati', b'mati', b'mati', b'nyala']], dtype=object)>"
            ]
          },
          "metadata": {},
          "execution_count": 91
        }
      ]
    },
    {
      "cell_type": "markdown",
      "source": [
        "# Math formula"
      ],
      "metadata": {
        "id": "yyeXIae-p2GJ"
      }
    },
    {
      "cell_type": "code",
      "source": [
        "H = tf.range(1, 10)\n",
        "H"
      ],
      "metadata": {
        "colab": {
          "base_uri": "https://localhost:8080/"
        },
        "id": "R1l8odq3l0vZ",
        "outputId": "56ab01f9-e44b-42a4-e280-f283f7dd11ab"
      },
      "execution_count": null,
      "outputs": [
        {
          "output_type": "execute_result",
          "data": {
            "text/plain": [
              "<tf.Tensor: shape=(9,), dtype=int32, numpy=array([1, 2, 3, 4, 5, 6, 7, 8, 9], dtype=int32)>"
            ]
          },
          "metadata": {},
          "execution_count": 93
        }
      ]
    },
    {
      "cell_type": "code",
      "source": [
        "tf.square(H)"
      ],
      "metadata": {
        "colab": {
          "base_uri": "https://localhost:8080/"
        },
        "id": "cBvojpEHp7qN",
        "outputId": "bd1dabd4-89f1-4a10-8ee0-804cba8bebd8"
      },
      "execution_count": null,
      "outputs": [
        {
          "output_type": "execute_result",
          "data": {
            "text/plain": [
              "<tf.Tensor: shape=(9,), dtype=int32, numpy=array([ 1,  4,  9, 16, 25, 36, 49, 64, 81], dtype=int32)>"
            ]
          },
          "metadata": {},
          "execution_count": 94
        }
      ]
    },
    {
      "cell_type": "code",
      "source": [
        "tf.sqrt(tf.cast(H, dtype=tf.float32))"
      ],
      "metadata": {
        "colab": {
          "base_uri": "https://localhost:8080/"
        },
        "id": "wC-eY8H0p9d1",
        "outputId": "b4d0beea-5d65-4196-b5b9-f844967fbf4c"
      },
      "execution_count": null,
      "outputs": [
        {
          "output_type": "execute_result",
          "data": {
            "text/plain": [
              "<tf.Tensor: shape=(9,), dtype=float32, numpy=\n",
              "array([1.       , 1.4142135, 1.7320508, 2.       , 2.236068 , 2.4494898,\n",
              "       2.6457512, 2.828427 , 3.       ], dtype=float32)>"
            ]
          },
          "metadata": {},
          "execution_count": 97
        }
      ]
    },
    {
      "cell_type": "code",
      "source": [
        "tf.math.log(tf.cast(H, dtype=tf.float32))"
      ],
      "metadata": {
        "colab": {
          "base_uri": "https://localhost:8080/"
        },
        "id": "oTd9mTC5p-e1",
        "outputId": "bc5bc2de-13b6-4e18-88f5-e4416431bb87"
      },
      "execution_count": null,
      "outputs": [
        {
          "output_type": "execute_result",
          "data": {
            "text/plain": [
              "<tf.Tensor: shape=(9,), dtype=float32, numpy=\n",
              "array([0.       , 0.6931472, 1.0986123, 1.3862944, 1.609438 , 1.7917595,\n",
              "       1.9459102, 2.0794415, 2.1972246], dtype=float32)>"
            ]
          },
          "metadata": {},
          "execution_count": 98
        }
      ]
    },
    {
      "cell_type": "code",
      "source": [
        "J = tf.constant(np.array([3., 7., 10.]))\n",
        "J"
      ],
      "metadata": {
        "colab": {
          "base_uri": "https://localhost:8080/"
        },
        "id": "pSPemQSrqNtf",
        "outputId": "894a768b-2959-45ba-8993-e4da4280988a"
      },
      "execution_count": null,
      "outputs": [
        {
          "output_type": "execute_result",
          "data": {
            "text/plain": [
              "<tf.Tensor: shape=(3,), dtype=float64, numpy=array([ 3.,  7., 10.])>"
            ]
          },
          "metadata": {},
          "execution_count": 100
        }
      ]
    },
    {
      "cell_type": "code",
      "source": [
        "np.array(J), type(np.array(J))"
      ],
      "metadata": {
        "colab": {
          "base_uri": "https://localhost:8080/"
        },
        "id": "pQKM-7mTq8da",
        "outputId": "d3193093-b7da-4c0d-e34f-5217c2247360"
      },
      "execution_count": null,
      "outputs": [
        {
          "output_type": "execute_result",
          "data": {
            "text/plain": [
              "(array([ 3.,  7., 10.]), numpy.ndarray)"
            ]
          },
          "metadata": {},
          "execution_count": 101
        }
      ]
    },
    {
      "cell_type": "code",
      "source": [
        "J.numpy(), type(J.numpy())"
      ],
      "metadata": {
        "colab": {
          "base_uri": "https://localhost:8080/"
        },
        "id": "QHWYswhHrDDb",
        "outputId": "90ef19f8-9870-4102-b245-13402ba2822f"
      },
      "execution_count": null,
      "outputs": [
        {
          "output_type": "execute_result",
          "data": {
            "text/plain": [
              "(array([ 3.,  7., 10.]), numpy.ndarray)"
            ]
          },
          "metadata": {},
          "execution_count": 102
        }
      ]
    },
    {
      "cell_type": "markdown",
      "source": [
        "# GPU"
      ],
      "metadata": {
        "id": "JAoGlKclse1c"
      }
    },
    {
      "cell_type": "code",
      "source": [
        "tf.config.list_physical_devices()"
      ],
      "metadata": {
        "colab": {
          "base_uri": "https://localhost:8080/"
        },
        "id": "a3bnCnwyrKML",
        "outputId": "0d1ab20b-6f64-4fb3-8b3e-4c0da7cb488d"
      },
      "execution_count": null,
      "outputs": [
        {
          "output_type": "execute_result",
          "data": {
            "text/plain": [
              "[PhysicalDevice(name='/physical_device:CPU:0', device_type='CPU'),\n",
              " PhysicalDevice(name='/physical_device:GPU:0', device_type='GPU')]"
            ]
          },
          "metadata": {},
          "execution_count": 2
        }
      ]
    },
    {
      "cell_type": "markdown",
      "source": [
        "![image.png](data:image/png;base64,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)"
      ],
      "metadata": {
        "id": "Km8CebZCtCKQ"
      }
    },
    {
      "cell_type": "code",
      "source": [
        "!nvidia-smi"
      ],
      "metadata": {
        "colab": {
          "base_uri": "https://localhost:8080/"
        },
        "id": "rVDmYaqftPKP",
        "outputId": "d26cf10b-c001-42f3-dbe7-d695baaeb68a"
      },
      "execution_count": null,
      "outputs": [
        {
          "output_type": "stream",
          "name": "stdout",
          "text": [
            "Thu Oct 10 09:14:18 2024       \n",
            "+---------------------------------------------------------------------------------------+\n",
            "| NVIDIA-SMI 535.104.05             Driver Version: 535.104.05   CUDA Version: 12.2     |\n",
            "|-----------------------------------------+----------------------+----------------------+\n",
            "| GPU  Name                 Persistence-M | Bus-Id        Disp.A | Volatile Uncorr. ECC |\n",
            "| Fan  Temp   Perf          Pwr:Usage/Cap |         Memory-Usage | GPU-Util  Compute M. |\n",
            "|                                         |                      |               MIG M. |\n",
            "|=========================================+======================+======================|\n",
            "|   0  Tesla T4                       Off | 00000000:00:04.0 Off |                    0 |\n",
            "| N/A   44C    P8               9W /  70W |      3MiB / 15360MiB |      0%      Default |\n",
            "|                                         |                      |                  N/A |\n",
            "+-----------------------------------------+----------------------+----------------------+\n",
            "                                                                                         \n",
            "+---------------------------------------------------------------------------------------+\n",
            "| Processes:                                                                            |\n",
            "|  GPU   GI   CI        PID   Type   Process name                            GPU Memory |\n",
            "|        ID   ID                                                             Usage      |\n",
            "|=======================================================================================|\n",
            "|  No running processes found                                                           |\n",
            "+---------------------------------------------------------------------------------------+\n"
          ]
        }
      ]
    },
    {
      "cell_type": "markdown",
      "source": [
        "# Autodiff"
      ],
      "metadata": {
        "id": "UqC6D0qmzDS9"
      }
    },
    {
      "cell_type": "code",
      "source": [
        "def simple_function(x):\n",
        "  return x**2\n",
        "\n",
        "x = tf.Variable(3.0)\n",
        "\n",
        "with tf.GradientTape() as tape:\n",
        "  y = simple_function(x)\n",
        "\n",
        "grad = tape.gradient(y, x)\n",
        "grad"
      ],
      "metadata": {
        "colab": {
          "base_uri": "https://localhost:8080/"
        },
        "id": "Vg11ZHUTzD_T",
        "outputId": "ad53fc9c-9a06-4d1e-e762-8ebe263065b7"
      },
      "execution_count": null,
      "outputs": [
        {
          "output_type": "execute_result",
          "data": {
            "text/plain": [
              "<tf.Tensor: shape=(), dtype=float32, numpy=6.0>"
            ]
          },
          "metadata": {},
          "execution_count": 16
        }
      ]
    },
    {
      "cell_type": "code",
      "source": [
        "def complex_function(x):\n",
        "  return x ** 3 + 2 * x ** 2 + x\n",
        "\n",
        "x = tf.Variable(3.0)\n",
        "\n",
        "with tf.GradientTape() as tape:\n",
        "  y = complex_function(x)\n",
        "\n",
        "grad = tape.gradient(y, x)\n",
        "grad"
      ],
      "metadata": {
        "colab": {
          "base_uri": "https://localhost:8080/"
        },
        "id": "iMvNyiuBzgP2",
        "outputId": "ae495b23-2b4e-49ed-82f5-c679dbe9993f"
      },
      "execution_count": null,
      "outputs": [
        {
          "output_type": "execute_result",
          "data": {
            "text/plain": [
              "<tf.Tensor: shape=(), dtype=float32, numpy=40.0>"
            ]
          },
          "metadata": {},
          "execution_count": 17
        }
      ]
    },
    {
      "cell_type": "code",
      "source": [
        "def multivariable_function(x, y):\n",
        "  return x ** 2 + y ** 2\n",
        "\n",
        "x = tf.Variable(3.0)\n",
        "y = tf.Variable(4.0)\n",
        "\n",
        "with tf.GradientTape() as tape:\n",
        "  z = multivariable_function(x, y)\n",
        "\n",
        "grad_x, grad_y = tape.gradient(z, [x, y])\n",
        "grad_x, grad_y"
      ],
      "metadata": {
        "colab": {
          "base_uri": "https://localhost:8080/"
        },
        "id": "3Ez7xHIozhl_",
        "outputId": "8452c31a-801d-49e3-ab6a-eff2f262c7e6"
      },
      "execution_count": null,
      "outputs": [
        {
          "output_type": "execute_result",
          "data": {
            "text/plain": [
              "(<tf.Tensor: shape=(), dtype=float32, numpy=6.0>,\n",
              " <tf.Tensor: shape=(), dtype=float32, numpy=8.0>)"
            ]
          },
          "metadata": {},
          "execution_count": 18
        }
      ]
    },
    {
      "cell_type": "code",
      "source": [],
      "metadata": {
        "id": "GoLb3Txl0FCT"
      },
      "execution_count": null,
      "outputs": []
    }
  ]
}