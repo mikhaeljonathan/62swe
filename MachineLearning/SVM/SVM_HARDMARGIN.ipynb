{
 "cells": [
  {
   "cell_type": "markdown",
   "id": "210b4ce7-c157-4c48-b966-f57f7bcbe835",
   "metadata": {},
   "source": [
    "# Support Vector Machine - Hard Margin Classification"
   ]
  },
  {
   "cell_type": "markdown",
   "id": "a77f77e5-cf5a-4720-bd2d-6866945b6bff",
   "metadata": {},
   "source": [
    "## Define the functions"
   ]
  },
  {
   "cell_type": "code",
   "execution_count": 3,
   "id": "ed671b8a-7747-41ce-a553-edc5d2aa6bd8",
   "metadata": {
    "scrolled": true
   },
   "outputs": [],
   "source": [
    "import numpy as np\n",
    "import matplotlib.pyplot as plt\n",
    "\n",
    "# Define the cost function (hinge loss) and the objective function\n",
    "def hinge_loss(w, b, X, y):\n",
    "    return np.sum(np.maximum(0, 1 - y * (np.dot(X, w) + b)))\n",
    "\n",
    "def objective_function(w, b, X, y, C=1):\n",
    "    # Add regularization term (L2 regularization)\n",
    "    return 0.5 * np.dot(w, w) + C * hinge_loss(w, b, X, y)\n",
    "\n",
    "# Gradient of the objective function\n",
    "def compute_gradients(w, b, X, y, C=1):\n",
    "    n = len(X)\n",
    "    \n",
    "    # Initialize gradients\n",
    "    grad_w = np.zeros_like(w)\n",
    "    grad_b = 0\n",
    "\n",
    "    # Loop over all points\n",
    "    for i in range(n):\n",
    "        margin = y[i] * (np.dot(X[i], w) + b)\n",
    "        if margin < 1:\n",
    "            grad_w -= C * y[i] * X[i]\n",
    "            grad_b -= C * y[i]\n",
    "\n",
    "    # Include the regularization term in the gradient\n",
    "    grad_w += w  # L2 regularization gradient\n",
    "    \n",
    "    return grad_w, grad_b\n",
    "\n",
    "# Gradient descent to optimize the SVM parameters\n",
    "def svm_train(X, y, learning_rate=0.01, epochs=1000, C=1):\n",
    "    # Initialize weights and bias\n",
    "    w = np.zeros(X.shape[1])\n",
    "    b = 0\n",
    "\n",
    "    for epoch in range(epochs):\n",
    "        # Compute gradients\n",
    "        grad_w, grad_b = compute_gradients(w, b, X, y, C)\n",
    "        \n",
    "        # Update parameters\n",
    "        w -= learning_rate * grad_w\n",
    "        b -= learning_rate * grad_b\n",
    "        \n",
    "        # Optionally print the progress\n",
    "        if epoch % 100 == 0:\n",
    "            loss = objective_function(w, b, X, y, C)\n",
    "            print(f\"Epoch {epoch}: Loss = {loss}\")\n",
    "\n",
    "    return w, b\n",
    "\n",
    "# SVM prediction\n",
    "def svm_predict(X, w, b):\n",
    "    return np.sign(np.dot(X, w) + b)"
   ]
  },
  {
   "cell_type": "markdown",
   "id": "91c6bd09-c560-49c6-b1fa-4202a7ace4bb",
   "metadata": {},
   "source": [
    "## Generate synthetic data for the demo (two classes, linearly separable)"
   ]
  },
  {
   "cell_type": "code",
   "execution_count": 6,
   "id": "9d7a6b81-e518-483c-9ce9-78eb65fcb32e",
   "metadata": {},
   "outputs": [],
   "source": [
    "np.random.seed(0)\n",
    "X_pos = np.random.randn(10, 2) + [2, 2]  # Positive class (+1)\n",
    "X_neg = np.random.randn(10, 2) + [-2, -2]  # Negative class (-1)\n",
    "\n",
    "X = np.vstack([X_pos, X_neg])\n",
    "y = np.hstack([np.ones(10), -np.ones(10)])"
   ]
  },
  {
   "cell_type": "markdown",
   "id": "ee42b5d7-de52-4ece-8d67-310426828950",
   "metadata": {},
   "source": [
    "## Train the SVM"
   ]
  },
  {
   "cell_type": "code",
   "execution_count": 8,
   "id": "655719f2-e832-4fc9-953a-808772c758e9",
   "metadata": {},
   "outputs": [
    {
     "name": "stdout",
     "output_type": "stream",
     "text": [
      "Epoch 0: Loss = 1.0475662745079621\n",
      "Epoch 100: Loss = 0.2068582860856918\n",
      "Epoch 200: Loss = 0.20142577106843876\n",
      "Epoch 300: Loss = 0.19949383127827836\n",
      "Epoch 400: Loss = 0.19406143755827263\n",
      "Epoch 500: Loss = 0.19393222082295922\n",
      "Epoch 600: Loss = 0.19634745410770918\n",
      "Epoch 700: Loss = 0.2009626042079402\n",
      "Epoch 800: Loss = 0.19616186259175317\n",
      "Epoch 900: Loss = 0.19445746012357992\n"
     ]
    }
   ],
   "source": [
    "w, b = svm_train(X, y, learning_rate=0.01, epochs=1000)"
   ]
  },
  {
   "cell_type": "markdown",
   "id": "66c0f082-3ae1-4809-b1a8-a7a8095497fa",
   "metadata": {},
   "source": [
    "## Visualize the decision boundary"
   ]
  },
  {
   "cell_type": "code",
   "execution_count": 10,
   "id": "04d2ca81-7bfb-44d9-8092-bfcccf8a516b",
   "metadata": {},
   "outputs": [
    {
     "data": {
      "image/png": "[encoded data removed]",
      "text/plain": [
       "<Figure size 640x480 with 1 Axes>"
      ]
     },
     "metadata": {},
     "output_type": "display_data"
    }
   ],
   "source": [
    "plt.scatter(X_pos[:, 0], X_pos[:, 1], color='b', label='Class +1')\n",
    "plt.scatter(X_neg[:, 0], X_neg[:, 1], color='r', label='Class -1')\n",
    "\n",
    "# Plot the decision boundary\n",
    "x_min, x_max = X[:, 0].min() - 1, X[:, 0].max() + 1\n",
    "y_min, y_max = X[:, 1].min() - 1, X[:, 1].max() + 1\n",
    "xx, yy = np.meshgrid(np.linspace(x_min, x_max, 100), np.linspace(y_min, y_max, 100))\n",
    "Z = svm_predict(np.c_[xx.ravel(), yy.ravel()], w, b)\n",
    "Z = Z.reshape(xx.shape)\n",
    "\n",
    "plt.contour(xx, yy, Z, levels=[0], linewidths=2, colors='black')\n",
    "plt.xlim(x_min, x_max)\n",
    "plt.ylim(y_min, y_max)\n",
    "plt.xlabel('Feature 1')\n",
    "plt.ylabel('Feature 2')\n",
    "plt.legend()\n",
    "plt.title('Hard Margin Support Vector Machine')\n",
    "plt.show()"
   ]
  },
  {
   "cell_type": "code",
   "execution_count": null,
   "id": "6a86223a-54ba-436e-b0ee-e71609bd1110",
   "metadata": {},
   "outputs": [],
   "source": []
  }
 ],
 "metadata": {
  "kernelspec": {
   "display_name": "Python 3 (ipykernel)",
   "language": "python",
   "name": "python3"
  },
  "language_info": {
   "codemirror_mode": {
    "name": "ipython",
    "version": 3
   },
   "file_extension": ".py",
   "mimetype": "text/x-python",
   "name": "python",
   "nbconvert_exporter": "python",
   "pygments_lexer": "ipython3",
   "version": "3.12.4"
  }
 },
 "nbformat": 4,
 "nbformat_minor": 5
}
